{
  "cells": [
    {
      "cell_type": "markdown",
      "source": "<h1>Baseline for Problem Set 2</h1>\n<p>The following notebook is a simple baseline (a lot of room for improvements) which can help guide you throughout the process of making a Convolutional Neural Network (CNN) for detecting features of a celebrity.</p>",
      "metadata": {
        "tags": [],
        "cell_id": "00000-8255d3fc-250a-40c3-8ef2-97c22f5b2774",
        "deepnote_cell_type": "markdown"
      }
    },
    {
      "cell_type": "markdown",
      "source": "## Prerequisites and Useful Links",
      "metadata": {
        "tags": [],
        "cell_id": "00001-9d4d7885-d620-49af-a9b7-d79c7693ccf8",
        "deepnote_cell_type": "text-cell-h2"
      }
    },
    {
      "cell_type": "markdown",
      "source": "While this notebook would attempt to explain CNNs in a easy-to-understand way, it is helpful if the reader has an understanding of how Neural Networks work. This video series by Stat Quest: https://bit.ly/3fXkbNA goes into great detail about Neural Networks. Additionally, refer to the https://www.tisbmlthon.com/resources web-page for helpful starter resources. Finally, the documentation of each library used here (tensorflow.keras, pandas and to a lesser extent sklearn, matplotlib and seaborn) is also helpful for knowing the specifics of how a function work, but this notebook shall attempt to explain unfamiliar functions.",
      "metadata": {
        "tags": [],
        "cell_id": "00002-c7f1f33e-92d6-4ae2-b29e-de0563e6b730",
        "deepnote_cell_type": "text-cell-p"
      }
    },
    {
      "cell_type": "markdown",
      "source": "<h2>Content</h2>\n<p>Overall, there are 202,000 images of celebrities (approximately 171,000 for training and 30,000 for testing) with 2 attributes labelled: <b>thick-nose-and-lips</b> and <b>wearing-accessories</b>.</p>\n<p>Data Files:</p>\n<ol>\n  <li><b>images.zip:</b> All 202,000 face images</li>\n  <li><b>face_attribute_train:</b> Attribute labels for our face images. 1 signifies true while 0 signifies false</li>\n  <li><b>Sample Submissions:</b> Contains image data for testing purposes</li>\n</ol>  \n",
      "metadata": {
        "tags": [],
        "cell_id": "00001-e2cf6136-bf5a-4bca-96cc-e5f386e0d129",
        "deepnote_cell_type": "markdown"
      }
    },
    {
      "cell_type": "code",
      "metadata": {
        "id": "IujLU4xj6B1q",
        "cell_id": "00000-e5fafb05-e0eb-473a-bdf1-fd8a0c0dd5e3",
        "deepnote_to_be_reexecuted": false,
        "source_hash": "f1de6b55",
        "execution_start": 1617957951983,
        "execution_millis": 4883,
        "deepnote_cell_type": "code"
      },
      "source": "# Importing Libraries\n\n#Managing Data \nimport pandas as pd \n\n#Data Visualization\nimport matplotlib.pyplot as plt\nimport seaborn as sns\n\n#Machine Learning \nfrom tensorflow.keras.preprocessing.image import ImageDataGenerator\nfrom tensorflow.keras.callbacks import *\nfrom tensorflow.keras.applications.vgg16 import VGG16\nfrom sklearn.model_selection import train_test_split\nfrom tensorflow.keras.layers import MaxPooling2D, Flatten, Dense, Input, Dropout\nfrom tensorflow.keras import Input, Model\nfrom tensorflow.keras.optimizers import Adam\n\n",
      "execution_count": null,
      "outputs": []
    },
    {
      "cell_type": "code",
      "metadata": {
        "id": "kgVlSXAa6EuV",
        "cell_id": "00001-863f9616-b469-42d8-aff7-98082c26f323",
        "deepnote_to_be_reexecuted": false,
        "source_hash": "1ed3300c",
        "execution_start": 1617957956871,
        "execution_millis": 2,
        "deepnote_cell_type": "code"
      },
      "source": "%matplotlib inline\nplt.style.use('ggplot')",
      "execution_count": null,
      "outputs": []
    },
    {
      "cell_type": "markdown",
      "source": " <h2>Data Exploration</h2>  \n <p> Here we explore the dataset given to us.</p>\n",
      "metadata": {
        "tags": [],
        "cell_id": "00003-1675dcde-edb5-4a81-9dd7-2f6113531072",
        "deepnote_cell_type": "markdown"
      }
    },
    {
      "cell_type": "code",
      "metadata": {
        "colab": {
          "base_uri": "https://localhost:8080/",
          "height": 203
        },
        "id": "5VIOLad9eIXJ",
        "outputId": "6603c42b-e0b4-4a79-fc6d-35c293f779be",
        "cell_id": "00003-9d8b2643-380c-4ad7-acc8-9e19b4f76d80",
        "deepnote_to_be_reexecuted": false,
        "source_hash": "55a75e1d",
        "execution_millis": 155,
        "execution_start": 1617957991662,
        "deepnote_cell_type": "code"
      },
      "source": "#define variables\nimg_folder = 'face_images'\n\n#import the dataset with the attributes\ndf_attr = pd.read_csv('face_attribute_train.csv')\ndf_attr.head()",
      "execution_count": null,
      "outputs": [
        {
          "output_type": "execute_result",
          "execution_count": 6,
          "data": {
            "application/vnd.deepnote.dataframe.v2+json": {
              "row_count": 5,
              "column_count": 3,
              "columns": [
                {
                  "name": "image_id",
                  "dtype": "object",
                  "stats": {
                    "unique_count": 5,
                    "nan_count": 0,
                    "categories": [
                      {
                        "name": "108829970.jpg",
                        "count": 1
                      },
                      {
                        "name": "116516170.jpg",
                        "count": 1
                      },
                      {
                        "name": "3 others",
                        "count": 3
                      }
                    ]
                  }
                },
                {
                  "name": "Wearing_Accessories",
                  "dtype": "int64",
                  "stats": {
                    "unique_count": 2,
                    "nan_count": 0,
                    "min": 0,
                    "max": 1,
                    "histogram": [
                      {
                        "bin_start": 0,
                        "bin_end": 0.1,
                        "count": 4
                      },
                      {
                        "bin_start": 0.1,
                        "bin_end": 0.2,
                        "count": 0
                      },
                      {
                        "bin_start": 0.2,
                        "bin_end": 0.30000000000000004,
                        "count": 0
                      },
                      {
                        "bin_start": 0.30000000000000004,
                        "bin_end": 0.4,
                        "count": 0
                      },
                      {
                        "bin_start": 0.4,
                        "bin_end": 0.5,
                        "count": 0
                      },
                      {
                        "bin_start": 0.5,
                        "bin_end": 0.6000000000000001,
                        "count": 0
                      },
                      {
                        "bin_start": 0.6000000000000001,
                        "bin_end": 0.7000000000000001,
                        "count": 0
                      },
                      {
                        "bin_start": 0.7000000000000001,
                        "bin_end": 0.8,
                        "count": 0
                      },
                      {
                        "bin_start": 0.8,
                        "bin_end": 0.9,
                        "count": 0
                      },
                      {
                        "bin_start": 0.9,
                        "bin_end": 1,
                        "count": 1
                      }
                    ]
                  }
                },
                {
                  "name": "Thick_Lips_Nose",
                  "dtype": "int64",
                  "stats": {
                    "unique_count": 2,
                    "nan_count": 0,
                    "min": 0,
                    "max": 1,
                    "histogram": [
                      {
                        "bin_start": 0,
                        "bin_end": 0.1,
                        "count": 3
                      },
                      {
                        "bin_start": 0.1,
                        "bin_end": 0.2,
                        "count": 0
                      },
                      {
                        "bin_start": 0.2,
                        "bin_end": 0.30000000000000004,
                        "count": 0
                      },
                      {
                        "bin_start": 0.30000000000000004,
                        "bin_end": 0.4,
                        "count": 0
                      },
                      {
                        "bin_start": 0.4,
                        "bin_end": 0.5,
                        "count": 0
                      },
                      {
                        "bin_start": 0.5,
                        "bin_end": 0.6000000000000001,
                        "count": 0
                      },
                      {
                        "bin_start": 0.6000000000000001,
                        "bin_end": 0.7000000000000001,
                        "count": 0
                      },
                      {
                        "bin_start": 0.7000000000000001,
                        "bin_end": 0.8,
                        "count": 0
                      },
                      {
                        "bin_start": 0.8,
                        "bin_end": 0.9,
                        "count": 0
                      },
                      {
                        "bin_start": 0.9,
                        "bin_end": 1,
                        "count": 2
                      }
                    ]
                  }
                },
                {
                  "name": "_deepnote_index_column",
                  "dtype": "int64"
                }
              ],
              "rows_top": [
                {
                  "image_id": "108829970.jpg",
                  "Wearing_Accessories": 0,
                  "Thick_Lips_Nose": 1,
                  "_deepnote_index_column": 0
                },
                {
                  "image_id": "116516170.jpg",
                  "Wearing_Accessories": 0,
                  "Thick_Lips_Nose": 0,
                  "_deepnote_index_column": 1
                },
                {
                  "image_id": "120840350.jpg",
                  "Wearing_Accessories": 1,
                  "Thick_Lips_Nose": 0,
                  "_deepnote_index_column": 2
                },
                {
                  "image_id": "109640690.jpg",
                  "Wearing_Accessories": 0,
                  "Thick_Lips_Nose": 1,
                  "_deepnote_index_column": 3
                },
                {
                  "image_id": "115812100.jpg",
                  "Wearing_Accessories": 0,
                  "Thick_Lips_Nose": 0,
                  "_deepnote_index_column": 4
                }
              ],
              "rows_bottom": null
            },
            "text/plain": "        image_id  Wearing_Accessories  Thick_Lips_Nose\n0  108829970.jpg                    0                1\n1  116516170.jpg                    0                0\n2  120840350.jpg                    1                0\n3  109640690.jpg                    0                1\n4  115812100.jpg                    0                0",
            "text/html": "<div>\n<style scoped>\n    .dataframe tbody tr th:only-of-type {\n        vertical-align: middle;\n    }\n\n    .dataframe tbody tr th {\n        vertical-align: top;\n    }\n\n    .dataframe thead th {\n        text-align: right;\n    }\n</style>\n<table border=\"1\" class=\"dataframe\">\n  <thead>\n    <tr style=\"text-align: right;\">\n      <th></th>\n      <th>image_id</th>\n      <th>Wearing_Accessories</th>\n      <th>Thick_Lips_Nose</th>\n    </tr>\n  </thead>\n  <tbody>\n    <tr>\n      <th>0</th>\n      <td>108829970.jpg</td>\n      <td>0</td>\n      <td>1</td>\n    </tr>\n    <tr>\n      <th>1</th>\n      <td>116516170.jpg</td>\n      <td>0</td>\n      <td>0</td>\n    </tr>\n    <tr>\n      <th>2</th>\n      <td>120840350.jpg</td>\n      <td>1</td>\n      <td>0</td>\n    </tr>\n    <tr>\n      <th>3</th>\n      <td>109640690.jpg</td>\n      <td>0</td>\n      <td>1</td>\n    </tr>\n    <tr>\n      <th>4</th>\n      <td>115812100.jpg</td>\n      <td>0</td>\n      <td>0</td>\n    </tr>\n  </tbody>\n</table>\n</div>"
          },
          "metadata": {}
        }
      ]
    },
    {
      "cell_type": "markdown",
      "source": "Note that it is very important for you to be able to access your files easily. Since all my files were in the root directory, I had to only define the location of the image folders, however you may need to define the main folder where all the files (face_attribute_train.csv, images folder and sampleSubmission.csv)  are stored.",
      "metadata": {
        "tags": [],
        "cell_id": "00008-2ac5aa9d-4e5d-489e-a326-ceff54ffda16",
        "deepnote_cell_type": "text-cell-p"
      }
    },
    {
      "cell_type": "code",
      "metadata": {
        "tags": [],
        "cell_id": "00004-5de3614e-6b8c-46d5-80ae-5000b0c00d7d",
        "deepnote_to_be_reexecuted": false,
        "source_hash": "23e59600",
        "execution_start": 1617957993740,
        "execution_millis": 56,
        "deepnote_cell_type": "code"
      },
      "source": "df_attr",
      "execution_count": null,
      "outputs": [
        {
          "output_type": "execute_result",
          "execution_count": 7,
          "data": {
            "application/vnd.deepnote.dataframe.v2+json": {
              "row_count": 172199,
              "column_count": 3,
              "columns": [
                {
                  "name": "image_id",
                  "dtype": "object"
                },
                {
                  "name": "Wearing_Accessories",
                  "dtype": "int64"
                },
                {
                  "name": "Thick_Lips_Nose",
                  "dtype": "int64"
                },
                {
                  "name": "_deepnote_index_column",
                  "dtype": "int64"
                }
              ],
              "rows_top": [
                {
                  "image_id": "108829970.jpg",
                  "Wearing_Accessories": 0,
                  "Thick_Lips_Nose": 1,
                  "_deepnote_index_column": 0
                },
                {
                  "image_id": "116516170.jpg",
                  "Wearing_Accessories": 0,
                  "Thick_Lips_Nose": 0,
                  "_deepnote_index_column": 1
                },
                {
                  "image_id": "120840350.jpg",
                  "Wearing_Accessories": 1,
                  "Thick_Lips_Nose": 0,
                  "_deepnote_index_column": 2
                },
                {
                  "image_id": "109640690.jpg",
                  "Wearing_Accessories": 0,
                  "Thick_Lips_Nose": 1,
                  "_deepnote_index_column": 3
                },
                {
                  "image_id": "115812100.jpg",
                  "Wearing_Accessories": 0,
                  "Thick_Lips_Nose": 0,
                  "_deepnote_index_column": 4
                },
                {
                  "image_id": "110868090.jpg",
                  "Wearing_Accessories": 1,
                  "Thick_Lips_Nose": 0,
                  "_deepnote_index_column": 5
                },
                {
                  "image_id": "97493450.jpg",
                  "Wearing_Accessories": 0,
                  "Thick_Lips_Nose": 0,
                  "_deepnote_index_column": 6
                },
                {
                  "image_id": "116069710.jpg",
                  "Wearing_Accessories": 1,
                  "Thick_Lips_Nose": 0,
                  "_deepnote_index_column": 7
                },
                {
                  "image_id": "108471600.jpg",
                  "Wearing_Accessories": 1,
                  "Thick_Lips_Nose": 0,
                  "_deepnote_index_column": 8
                },
                {
                  "image_id": "117628280.jpg",
                  "Wearing_Accessories": 1,
                  "Thick_Lips_Nose": 0,
                  "_deepnote_index_column": 9
                },
                {
                  "image_id": "111059040.jpg",
                  "Wearing_Accessories": 1,
                  "Thick_Lips_Nose": 0,
                  "_deepnote_index_column": 10
                },
                {
                  "image_id": "114427070.jpg",
                  "Wearing_Accessories": 0,
                  "Thick_Lips_Nose": 0,
                  "_deepnote_index_column": 11
                },
                {
                  "image_id": "121422490.jpg",
                  "Wearing_Accessories": 0,
                  "Thick_Lips_Nose": 1,
                  "_deepnote_index_column": 12
                },
                {
                  "image_id": "104467130.jpg",
                  "Wearing_Accessories": 1,
                  "Thick_Lips_Nose": 1,
                  "_deepnote_index_column": 13
                },
                {
                  "image_id": "120076950.jpg",
                  "Wearing_Accessories": 0,
                  "Thick_Lips_Nose": 0,
                  "_deepnote_index_column": 14
                },
                {
                  "image_id": "105316430.jpg",
                  "Wearing_Accessories": 1,
                  "Thick_Lips_Nose": 1,
                  "_deepnote_index_column": 15
                },
                {
                  "image_id": "120995780.jpg",
                  "Wearing_Accessories": 1,
                  "Thick_Lips_Nose": 0,
                  "_deepnote_index_column": 16
                },
                {
                  "image_id": "117423770.jpg",
                  "Wearing_Accessories": 0,
                  "Thick_Lips_Nose": 0,
                  "_deepnote_index_column": 17
                },
                {
                  "image_id": "116347620.jpg",
                  "Wearing_Accessories": 0,
                  "Thick_Lips_Nose": 1,
                  "_deepnote_index_column": 18
                },
                {
                  "image_id": "120708200.jpg",
                  "Wearing_Accessories": 0,
                  "Thick_Lips_Nose": 0,
                  "_deepnote_index_column": 19
                },
                {
                  "image_id": "95178990.jpg",
                  "Wearing_Accessories": 1,
                  "Thick_Lips_Nose": 0,
                  "_deepnote_index_column": 20
                },
                {
                  "image_id": "112641560.jpg",
                  "Wearing_Accessories": 0,
                  "Thick_Lips_Nose": 0,
                  "_deepnote_index_column": 21
                },
                {
                  "image_id": "118624410.jpg",
                  "Wearing_Accessories": 0,
                  "Thick_Lips_Nose": 0,
                  "_deepnote_index_column": 22
                },
                {
                  "image_id": "110373059.jpg",
                  "Wearing_Accessories": 1,
                  "Thick_Lips_Nose": 0,
                  "_deepnote_index_column": 23
                },
                {
                  "image_id": "120315110.jpg",
                  "Wearing_Accessories": 1,
                  "Thick_Lips_Nose": 0,
                  "_deepnote_index_column": 24
                },
                {
                  "image_id": "121578959.jpg",
                  "Wearing_Accessories": 0,
                  "Thick_Lips_Nose": 1,
                  "_deepnote_index_column": 25
                },
                {
                  "image_id": "111026240.jpg",
                  "Wearing_Accessories": 0,
                  "Thick_Lips_Nose": 0,
                  "_deepnote_index_column": 26
                },
                {
                  "image_id": "119138400.jpg",
                  "Wearing_Accessories": 0,
                  "Thick_Lips_Nose": 1,
                  "_deepnote_index_column": 27
                },
                {
                  "image_id": "97755410.jpg",
                  "Wearing_Accessories": 1,
                  "Thick_Lips_Nose": 0,
                  "_deepnote_index_column": 28
                },
                {
                  "image_id": "112180579.jpg",
                  "Wearing_Accessories": 0,
                  "Thick_Lips_Nose": 0,
                  "_deepnote_index_column": 29
                },
                {
                  "image_id": "116984250.jpg",
                  "Wearing_Accessories": 0,
                  "Thick_Lips_Nose": 1,
                  "_deepnote_index_column": 30
                },
                {
                  "image_id": "121523340.jpg",
                  "Wearing_Accessories": 1,
                  "Thick_Lips_Nose": 1,
                  "_deepnote_index_column": 31
                },
                {
                  "image_id": "117471040.jpg",
                  "Wearing_Accessories": 0,
                  "Thick_Lips_Nose": 0,
                  "_deepnote_index_column": 32
                },
                {
                  "image_id": "106291499.jpg",
                  "Wearing_Accessories": 0,
                  "Thick_Lips_Nose": 0,
                  "_deepnote_index_column": 33
                },
                {
                  "image_id": "119634790.jpg",
                  "Wearing_Accessories": 0,
                  "Thick_Lips_Nose": 0,
                  "_deepnote_index_column": 34
                },
                {
                  "image_id": "115093590.jpg",
                  "Wearing_Accessories": 0,
                  "Thick_Lips_Nose": 1,
                  "_deepnote_index_column": 35
                },
                {
                  "image_id": "115752800.jpg",
                  "Wearing_Accessories": 0,
                  "Thick_Lips_Nose": 0,
                  "_deepnote_index_column": 36
                },
                {
                  "image_id": "110236170.jpg",
                  "Wearing_Accessories": 0,
                  "Thick_Lips_Nose": 0,
                  "_deepnote_index_column": 37
                },
                {
                  "image_id": "108772730.jpg",
                  "Wearing_Accessories": 1,
                  "Thick_Lips_Nose": 1,
                  "_deepnote_index_column": 38
                },
                {
                  "image_id": "119677710.jpg",
                  "Wearing_Accessories": 0,
                  "Thick_Lips_Nose": 1,
                  "_deepnote_index_column": 39
                },
                {
                  "image_id": "115484080.jpg",
                  "Wearing_Accessories": 1,
                  "Thick_Lips_Nose": 0,
                  "_deepnote_index_column": 40
                },
                {
                  "image_id": "108677870.jpg",
                  "Wearing_Accessories": 1,
                  "Thick_Lips_Nose": 0,
                  "_deepnote_index_column": 41
                },
                {
                  "image_id": "117262290.jpg",
                  "Wearing_Accessories": 0,
                  "Thick_Lips_Nose": 1,
                  "_deepnote_index_column": 42
                },
                {
                  "image_id": "116368230.jpg",
                  "Wearing_Accessories": 0,
                  "Thick_Lips_Nose": 1,
                  "_deepnote_index_column": 43
                },
                {
                  "image_id": "99174399.jpg",
                  "Wearing_Accessories": 0,
                  "Thick_Lips_Nose": 0,
                  "_deepnote_index_column": 44
                },
                {
                  "image_id": "121734410.jpg",
                  "Wearing_Accessories": 1,
                  "Thick_Lips_Nose": 1,
                  "_deepnote_index_column": 45
                },
                {
                  "image_id": "116392940.jpg",
                  "Wearing_Accessories": 1,
                  "Thick_Lips_Nose": 0,
                  "_deepnote_index_column": 46
                },
                {
                  "image_id": "117056920.jpg",
                  "Wearing_Accessories": 0,
                  "Thick_Lips_Nose": 0,
                  "_deepnote_index_column": 47
                },
                {
                  "image_id": "115317080.jpg",
                  "Wearing_Accessories": 1,
                  "Thick_Lips_Nose": 0,
                  "_deepnote_index_column": 48
                },
                {
                  "image_id": "108075440.jpg",
                  "Wearing_Accessories": 0,
                  "Thick_Lips_Nose": 0,
                  "_deepnote_index_column": 49
                },
                {
                  "image_id": "115503950.jpg",
                  "Wearing_Accessories": 0,
                  "Thick_Lips_Nose": 1,
                  "_deepnote_index_column": 50
                },
                {
                  "image_id": "112445229.jpg",
                  "Wearing_Accessories": 0,
                  "Thick_Lips_Nose": 1,
                  "_deepnote_index_column": 51
                },
                {
                  "image_id": "89372180.jpg",
                  "Wearing_Accessories": 1,
                  "Thick_Lips_Nose": 0,
                  "_deepnote_index_column": 52
                },
                {
                  "image_id": "112711720.jpg",
                  "Wearing_Accessories": 0,
                  "Thick_Lips_Nose": 1,
                  "_deepnote_index_column": 53
                },
                {
                  "image_id": "122189540.jpg",
                  "Wearing_Accessories": 0,
                  "Thick_Lips_Nose": 0,
                  "_deepnote_index_column": 54
                },
                {
                  "image_id": "121321300.jpg",
                  "Wearing_Accessories": 1,
                  "Thick_Lips_Nose": 0,
                  "_deepnote_index_column": 55
                },
                {
                  "image_id": "113972000.jpg",
                  "Wearing_Accessories": 0,
                  "Thick_Lips_Nose": 0,
                  "_deepnote_index_column": 56
                },
                {
                  "image_id": "119609520.jpg",
                  "Wearing_Accessories": 0,
                  "Thick_Lips_Nose": 0,
                  "_deepnote_index_column": 57
                },
                {
                  "image_id": "118918690.jpg",
                  "Wearing_Accessories": 1,
                  "Thick_Lips_Nose": 0,
                  "_deepnote_index_column": 58
                },
                {
                  "image_id": "117977960.jpg",
                  "Wearing_Accessories": 1,
                  "Thick_Lips_Nose": 0,
                  "_deepnote_index_column": 59
                },
                {
                  "image_id": "119405300.jpg",
                  "Wearing_Accessories": 1,
                  "Thick_Lips_Nose": 0,
                  "_deepnote_index_column": 60
                },
                {
                  "image_id": "115453930.jpg",
                  "Wearing_Accessories": 1,
                  "Thick_Lips_Nose": 1,
                  "_deepnote_index_column": 61
                },
                {
                  "image_id": "94296370.jpg",
                  "Wearing_Accessories": 0,
                  "Thick_Lips_Nose": 1,
                  "_deepnote_index_column": 62
                },
                {
                  "image_id": "110010160.jpg",
                  "Wearing_Accessories": 0,
                  "Thick_Lips_Nose": 1,
                  "_deepnote_index_column": 63
                },
                {
                  "image_id": "112856230.jpg",
                  "Wearing_Accessories": 0,
                  "Thick_Lips_Nose": 0,
                  "_deepnote_index_column": 64
                },
                {
                  "image_id": "112439600.jpg",
                  "Wearing_Accessories": 0,
                  "Thick_Lips_Nose": 1,
                  "_deepnote_index_column": 65
                },
                {
                  "image_id": "120632410.jpg",
                  "Wearing_Accessories": 0,
                  "Thick_Lips_Nose": 1,
                  "_deepnote_index_column": 66
                },
                {
                  "image_id": "97995150.jpg",
                  "Wearing_Accessories": 1,
                  "Thick_Lips_Nose": 0,
                  "_deepnote_index_column": 67
                },
                {
                  "image_id": "120302720.jpg",
                  "Wearing_Accessories": 1,
                  "Thick_Lips_Nose": 1,
                  "_deepnote_index_column": 68
                },
                {
                  "image_id": "116823900.jpg",
                  "Wearing_Accessories": 0,
                  "Thick_Lips_Nose": 0,
                  "_deepnote_index_column": 69
                },
                {
                  "image_id": "100991370.jpg",
                  "Wearing_Accessories": 1,
                  "Thick_Lips_Nose": 0,
                  "_deepnote_index_column": 70
                },
                {
                  "image_id": "108341350.jpg",
                  "Wearing_Accessories": 1,
                  "Thick_Lips_Nose": 1,
                  "_deepnote_index_column": 71
                },
                {
                  "image_id": "104662980.jpg",
                  "Wearing_Accessories": 0,
                  "Thick_Lips_Nose": 0,
                  "_deepnote_index_column": 72
                },
                {
                  "image_id": "120731520.jpg",
                  "Wearing_Accessories": 0,
                  "Thick_Lips_Nose": 1,
                  "_deepnote_index_column": 73
                },
                {
                  "image_id": "109560560.jpg",
                  "Wearing_Accessories": 1,
                  "Thick_Lips_Nose": 1,
                  "_deepnote_index_column": 74
                },
                {
                  "image_id": "121181970.jpg",
                  "Wearing_Accessories": 0,
                  "Thick_Lips_Nose": 1,
                  "_deepnote_index_column": 75
                },
                {
                  "image_id": "120037240.jpg",
                  "Wearing_Accessories": 1,
                  "Thick_Lips_Nose": 1,
                  "_deepnote_index_column": 76
                },
                {
                  "image_id": "113564820.jpg",
                  "Wearing_Accessories": 1,
                  "Thick_Lips_Nose": 0,
                  "_deepnote_index_column": 77
                },
                {
                  "image_id": "105941820.jpg",
                  "Wearing_Accessories": 1,
                  "Thick_Lips_Nose": 0,
                  "_deepnote_index_column": 78
                },
                {
                  "image_id": "119870460.jpg",
                  "Wearing_Accessories": 0,
                  "Thick_Lips_Nose": 0,
                  "_deepnote_index_column": 79
                },
                {
                  "image_id": "119265770.jpg",
                  "Wearing_Accessories": 0,
                  "Thick_Lips_Nose": 0,
                  "_deepnote_index_column": 80
                },
                {
                  "image_id": "109275740.jpg",
                  "Wearing_Accessories": 0,
                  "Thick_Lips_Nose": 0,
                  "_deepnote_index_column": 81
                },
                {
                  "image_id": "73290940.jpg",
                  "Wearing_Accessories": 0,
                  "Thick_Lips_Nose": 1,
                  "_deepnote_index_column": 82
                },
                {
                  "image_id": "102843870.jpg",
                  "Wearing_Accessories": 1,
                  "Thick_Lips_Nose": 0,
                  "_deepnote_index_column": 83
                },
                {
                  "image_id": "120904090.jpg",
                  "Wearing_Accessories": 0,
                  "Thick_Lips_Nose": 0,
                  "_deepnote_index_column": 84
                },
                {
                  "image_id": "106015230.jpg",
                  "Wearing_Accessories": 1,
                  "Thick_Lips_Nose": 0,
                  "_deepnote_index_column": 85
                },
                {
                  "image_id": "117565069.jpg",
                  "Wearing_Accessories": 1,
                  "Thick_Lips_Nose": 0,
                  "_deepnote_index_column": 86
                },
                {
                  "image_id": "121698240.jpg",
                  "Wearing_Accessories": 1,
                  "Thick_Lips_Nose": 1,
                  "_deepnote_index_column": 87
                },
                {
                  "image_id": "104850880.jpg",
                  "Wearing_Accessories": 0,
                  "Thick_Lips_Nose": 0,
                  "_deepnote_index_column": 88
                },
                {
                  "image_id": "106432320.jpg",
                  "Wearing_Accessories": 0,
                  "Thick_Lips_Nose": 0,
                  "_deepnote_index_column": 89
                },
                {
                  "image_id": "121028040.jpg",
                  "Wearing_Accessories": 0,
                  "Thick_Lips_Nose": 0,
                  "_deepnote_index_column": 90
                },
                {
                  "image_id": "113059870.jpg",
                  "Wearing_Accessories": 0,
                  "Thick_Lips_Nose": 1,
                  "_deepnote_index_column": 91
                },
                {
                  "image_id": "121830600.jpg",
                  "Wearing_Accessories": 1,
                  "Thick_Lips_Nose": 1,
                  "_deepnote_index_column": 92
                },
                {
                  "image_id": "99383720.jpg",
                  "Wearing_Accessories": 1,
                  "Thick_Lips_Nose": 0,
                  "_deepnote_index_column": 93
                },
                {
                  "image_id": "111740760.jpg",
                  "Wearing_Accessories": 0,
                  "Thick_Lips_Nose": 1,
                  "_deepnote_index_column": 94
                },
                {
                  "image_id": "104596400.jpg",
                  "Wearing_Accessories": 1,
                  "Thick_Lips_Nose": 1,
                  "_deepnote_index_column": 95
                },
                {
                  "image_id": "113471070.jpg",
                  "Wearing_Accessories": 1,
                  "Thick_Lips_Nose": 1,
                  "_deepnote_index_column": 96
                },
                {
                  "image_id": "103792560.jpg",
                  "Wearing_Accessories": 0,
                  "Thick_Lips_Nose": 0,
                  "_deepnote_index_column": 97
                },
                {
                  "image_id": "116260840.jpg",
                  "Wearing_Accessories": 0,
                  "Thick_Lips_Nose": 1,
                  "_deepnote_index_column": 98
                },
                {
                  "image_id": "113910060.jpg",
                  "Wearing_Accessories": 0,
                  "Thick_Lips_Nose": 0,
                  "_deepnote_index_column": 99
                },
                {
                  "image_id": "109050200.jpg",
                  "Wearing_Accessories": 0,
                  "Thick_Lips_Nose": 0,
                  "_deepnote_index_column": 100
                },
                {
                  "image_id": "105013620.jpg",
                  "Wearing_Accessories": 0,
                  "Thick_Lips_Nose": 0,
                  "_deepnote_index_column": 101
                },
                {
                  "image_id": "110722790.jpg",
                  "Wearing_Accessories": 0,
                  "Thick_Lips_Nose": 0,
                  "_deepnote_index_column": 102
                },
                {
                  "image_id": "115751210.jpg",
                  "Wearing_Accessories": 0,
                  "Thick_Lips_Nose": 0,
                  "_deepnote_index_column": 103
                },
                {
                  "image_id": "109845469.jpg",
                  "Wearing_Accessories": 1,
                  "Thick_Lips_Nose": 0,
                  "_deepnote_index_column": 104
                },
                {
                  "image_id": "119811090.jpg",
                  "Wearing_Accessories": 0,
                  "Thick_Lips_Nose": 1,
                  "_deepnote_index_column": 105
                },
                {
                  "image_id": "110718590.jpg",
                  "Wearing_Accessories": 1,
                  "Thick_Lips_Nose": 1,
                  "_deepnote_index_column": 106
                },
                {
                  "image_id": "117491350.jpg",
                  "Wearing_Accessories": 1,
                  "Thick_Lips_Nose": 0,
                  "_deepnote_index_column": 107
                },
                {
                  "image_id": "101729420.jpg",
                  "Wearing_Accessories": 0,
                  "Thick_Lips_Nose": 1,
                  "_deepnote_index_column": 108
                },
                {
                  "image_id": "89950410.jpg",
                  "Wearing_Accessories": 0,
                  "Thick_Lips_Nose": 0,
                  "_deepnote_index_column": 109
                },
                {
                  "image_id": "103758009.jpg",
                  "Wearing_Accessories": 0,
                  "Thick_Lips_Nose": 0,
                  "_deepnote_index_column": 110
                },
                {
                  "image_id": "113438199.jpg",
                  "Wearing_Accessories": 1,
                  "Thick_Lips_Nose": 1,
                  "_deepnote_index_column": 111
                },
                {
                  "image_id": "112346920.jpg",
                  "Wearing_Accessories": 1,
                  "Thick_Lips_Nose": 0,
                  "_deepnote_index_column": 112
                },
                {
                  "image_id": "109714520.jpg",
                  "Wearing_Accessories": 0,
                  "Thick_Lips_Nose": 1,
                  "_deepnote_index_column": 113
                },
                {
                  "image_id": "104923010.jpg",
                  "Wearing_Accessories": 0,
                  "Thick_Lips_Nose": 0,
                  "_deepnote_index_column": 114
                },
                {
                  "image_id": "108340950.jpg",
                  "Wearing_Accessories": 0,
                  "Thick_Lips_Nose": 0,
                  "_deepnote_index_column": 115
                },
                {
                  "image_id": "115383890.jpg",
                  "Wearing_Accessories": 0,
                  "Thick_Lips_Nose": 0,
                  "_deepnote_index_column": 116
                },
                {
                  "image_id": "120823390.jpg",
                  "Wearing_Accessories": 0,
                  "Thick_Lips_Nose": 1,
                  "_deepnote_index_column": 117
                },
                {
                  "image_id": "104657000.jpg",
                  "Wearing_Accessories": 0,
                  "Thick_Lips_Nose": 0,
                  "_deepnote_index_column": 118
                },
                {
                  "image_id": "112538570.jpg",
                  "Wearing_Accessories": 0,
                  "Thick_Lips_Nose": 1,
                  "_deepnote_index_column": 119
                },
                {
                  "image_id": "120051490.jpg",
                  "Wearing_Accessories": 1,
                  "Thick_Lips_Nose": 1,
                  "_deepnote_index_column": 120
                },
                {
                  "image_id": "112427689.jpg",
                  "Wearing_Accessories": 1,
                  "Thick_Lips_Nose": 0,
                  "_deepnote_index_column": 121
                },
                {
                  "image_id": "92085390.jpg",
                  "Wearing_Accessories": 0,
                  "Thick_Lips_Nose": 0,
                  "_deepnote_index_column": 122
                },
                {
                  "image_id": "94621099.jpg",
                  "Wearing_Accessories": 0,
                  "Thick_Lips_Nose": 0,
                  "_deepnote_index_column": 123
                },
                {
                  "image_id": "119067430.jpg",
                  "Wearing_Accessories": 0,
                  "Thick_Lips_Nose": 0,
                  "_deepnote_index_column": 124
                },
                {
                  "image_id": "118545909.jpg",
                  "Wearing_Accessories": 0,
                  "Thick_Lips_Nose": 1,
                  "_deepnote_index_column": 125
                },
                {
                  "image_id": "120363630.jpg",
                  "Wearing_Accessories": 1,
                  "Thick_Lips_Nose": 0,
                  "_deepnote_index_column": 126
                },
                {
                  "image_id": "121451060.jpg",
                  "Wearing_Accessories": 0,
                  "Thick_Lips_Nose": 0,
                  "_deepnote_index_column": 127
                },
                {
                  "image_id": "118113550.jpg",
                  "Wearing_Accessories": 1,
                  "Thick_Lips_Nose": 1,
                  "_deepnote_index_column": 128
                },
                {
                  "image_id": "120393980.jpg",
                  "Wearing_Accessories": 0,
                  "Thick_Lips_Nose": 0,
                  "_deepnote_index_column": 129
                },
                {
                  "image_id": "106019700.jpg",
                  "Wearing_Accessories": 0,
                  "Thick_Lips_Nose": 0,
                  "_deepnote_index_column": 130
                },
                {
                  "image_id": "116372290.jpg",
                  "Wearing_Accessories": 1,
                  "Thick_Lips_Nose": 1,
                  "_deepnote_index_column": 131
                },
                {
                  "image_id": "119042239.jpg",
                  "Wearing_Accessories": 1,
                  "Thick_Lips_Nose": 0,
                  "_deepnote_index_column": 132
                },
                {
                  "image_id": "113566810.jpg",
                  "Wearing_Accessories": 0,
                  "Thick_Lips_Nose": 0,
                  "_deepnote_index_column": 133
                },
                {
                  "image_id": "116787700.jpg",
                  "Wearing_Accessories": 0,
                  "Thick_Lips_Nose": 0,
                  "_deepnote_index_column": 134
                },
                {
                  "image_id": "117899049.jpg",
                  "Wearing_Accessories": 0,
                  "Thick_Lips_Nose": 0,
                  "_deepnote_index_column": 135
                },
                {
                  "image_id": "111414560.jpg",
                  "Wearing_Accessories": 0,
                  "Thick_Lips_Nose": 0,
                  "_deepnote_index_column": 136
                },
                {
                  "image_id": "115647780.jpg",
                  "Wearing_Accessories": 0,
                  "Thick_Lips_Nose": 1,
                  "_deepnote_index_column": 137
                },
                {
                  "image_id": "116832080.jpg",
                  "Wearing_Accessories": 0,
                  "Thick_Lips_Nose": 0,
                  "_deepnote_index_column": 138
                },
                {
                  "image_id": "118029200.jpg",
                  "Wearing_Accessories": 1,
                  "Thick_Lips_Nose": 0,
                  "_deepnote_index_column": 139
                },
                {
                  "image_id": "118979090.jpg",
                  "Wearing_Accessories": 1,
                  "Thick_Lips_Nose": 0,
                  "_deepnote_index_column": 140
                },
                {
                  "image_id": "121694500.jpg",
                  "Wearing_Accessories": 1,
                  "Thick_Lips_Nose": 1,
                  "_deepnote_index_column": 141
                },
                {
                  "image_id": "111063250.jpg",
                  "Wearing_Accessories": 1,
                  "Thick_Lips_Nose": 0,
                  "_deepnote_index_column": 142
                },
                {
                  "image_id": "112787970.jpg",
                  "Wearing_Accessories": 0,
                  "Thick_Lips_Nose": 0,
                  "_deepnote_index_column": 143
                },
                {
                  "image_id": "121965780.jpg",
                  "Wearing_Accessories": 0,
                  "Thick_Lips_Nose": 1,
                  "_deepnote_index_column": 144
                },
                {
                  "image_id": "108402470.jpg",
                  "Wearing_Accessories": 0,
                  "Thick_Lips_Nose": 0,
                  "_deepnote_index_column": 145
                },
                {
                  "image_id": "116950470.jpg",
                  "Wearing_Accessories": 0,
                  "Thick_Lips_Nose": 0,
                  "_deepnote_index_column": 146
                },
                {
                  "image_id": "111229300.jpg",
                  "Wearing_Accessories": 1,
                  "Thick_Lips_Nose": 1,
                  "_deepnote_index_column": 147
                },
                {
                  "image_id": "65395860.jpg",
                  "Wearing_Accessories": 0,
                  "Thick_Lips_Nose": 1,
                  "_deepnote_index_column": 148
                },
                {
                  "image_id": "119465109.jpg",
                  "Wearing_Accessories": 0,
                  "Thick_Lips_Nose": 0,
                  "_deepnote_index_column": 149
                },
                {
                  "image_id": "118268160.jpg",
                  "Wearing_Accessories": 1,
                  "Thick_Lips_Nose": 1,
                  "_deepnote_index_column": 150
                },
                {
                  "image_id": "94937130.jpg",
                  "Wearing_Accessories": 0,
                  "Thick_Lips_Nose": 1,
                  "_deepnote_index_column": 151
                },
                {
                  "image_id": "67428810.jpg",
                  "Wearing_Accessories": 0,
                  "Thick_Lips_Nose": 0,
                  "_deepnote_index_column": 152
                },
                {
                  "image_id": "109091440.jpg",
                  "Wearing_Accessories": 1,
                  "Thick_Lips_Nose": 1,
                  "_deepnote_index_column": 153
                },
                {
                  "image_id": "107814740.jpg",
                  "Wearing_Accessories": 1,
                  "Thick_Lips_Nose": 1,
                  "_deepnote_index_column": 154
                },
                {
                  "image_id": "100008410.jpg",
                  "Wearing_Accessories": 0,
                  "Thick_Lips_Nose": 0,
                  "_deepnote_index_column": 155
                },
                {
                  "image_id": "112656300.jpg",
                  "Wearing_Accessories": 0,
                  "Thick_Lips_Nose": 0,
                  "_deepnote_index_column": 156
                },
                {
                  "image_id": "115501539.jpg",
                  "Wearing_Accessories": 1,
                  "Thick_Lips_Nose": 1,
                  "_deepnote_index_column": 157
                },
                {
                  "image_id": "121067440.jpg",
                  "Wearing_Accessories": 1,
                  "Thick_Lips_Nose": 0,
                  "_deepnote_index_column": 158
                },
                {
                  "image_id": "121968450.jpg",
                  "Wearing_Accessories": 0,
                  "Thick_Lips_Nose": 0,
                  "_deepnote_index_column": 159
                },
                {
                  "image_id": "111226200.jpg",
                  "Wearing_Accessories": 0,
                  "Thick_Lips_Nose": 1,
                  "_deepnote_index_column": 160
                },
                {
                  "image_id": "121607610.jpg",
                  "Wearing_Accessories": 1,
                  "Thick_Lips_Nose": 0,
                  "_deepnote_index_column": 161
                },
                {
                  "image_id": "122021200.jpg",
                  "Wearing_Accessories": 0,
                  "Thick_Lips_Nose": 0,
                  "_deepnote_index_column": 162
                },
                {
                  "image_id": "113367850.jpg",
                  "Wearing_Accessories": 1,
                  "Thick_Lips_Nose": 1,
                  "_deepnote_index_column": 163
                },
                {
                  "image_id": "109979240.jpg",
                  "Wearing_Accessories": 1,
                  "Thick_Lips_Nose": 0,
                  "_deepnote_index_column": 164
                },
                {
                  "image_id": "117584100.jpg",
                  "Wearing_Accessories": 0,
                  "Thick_Lips_Nose": 1,
                  "_deepnote_index_column": 165
                }
              ],
              "rows_bottom": [
                {
                  "image_id": "110904920.jpg",
                  "Wearing_Accessories": 0,
                  "Thick_Lips_Nose": 0,
                  "_deepnote_index_column": 172032
                },
                {
                  "image_id": "116687750.jpg",
                  "Wearing_Accessories": 0,
                  "Thick_Lips_Nose": 0,
                  "_deepnote_index_column": 172033
                },
                {
                  "image_id": "91856380.jpg",
                  "Wearing_Accessories": 1,
                  "Thick_Lips_Nose": 0,
                  "_deepnote_index_column": 172034
                },
                {
                  "image_id": "121597300.jpg",
                  "Wearing_Accessories": 0,
                  "Thick_Lips_Nose": 0,
                  "_deepnote_index_column": 172035
                },
                {
                  "image_id": "119798680.jpg",
                  "Wearing_Accessories": 0,
                  "Thick_Lips_Nose": 1,
                  "_deepnote_index_column": 172036
                },
                {
                  "image_id": "121930380.jpg",
                  "Wearing_Accessories": 0,
                  "Thick_Lips_Nose": 1,
                  "_deepnote_index_column": 172037
                },
                {
                  "image_id": "119628730.jpg",
                  "Wearing_Accessories": 1,
                  "Thick_Lips_Nose": 0,
                  "_deepnote_index_column": 172038
                },
                {
                  "image_id": "80196130.jpg",
                  "Wearing_Accessories": 0,
                  "Thick_Lips_Nose": 0,
                  "_deepnote_index_column": 172039
                },
                {
                  "image_id": "82480060.jpg",
                  "Wearing_Accessories": 0,
                  "Thick_Lips_Nose": 1,
                  "_deepnote_index_column": 172040
                },
                {
                  "image_id": "95869940.jpg",
                  "Wearing_Accessories": 1,
                  "Thick_Lips_Nose": 1,
                  "_deepnote_index_column": 172041
                },
                {
                  "image_id": "120288760.jpg",
                  "Wearing_Accessories": 0,
                  "Thick_Lips_Nose": 0,
                  "_deepnote_index_column": 172042
                },
                {
                  "image_id": "81659320.jpg",
                  "Wearing_Accessories": 0,
                  "Thick_Lips_Nose": 1,
                  "_deepnote_index_column": 172043
                },
                {
                  "image_id": "109866309.jpg",
                  "Wearing_Accessories": 0,
                  "Thick_Lips_Nose": 1,
                  "_deepnote_index_column": 172044
                },
                {
                  "image_id": "113497360.jpg",
                  "Wearing_Accessories": 0,
                  "Thick_Lips_Nose": 1,
                  "_deepnote_index_column": 172045
                },
                {
                  "image_id": "120123480.jpg",
                  "Wearing_Accessories": 0,
                  "Thick_Lips_Nose": 0,
                  "_deepnote_index_column": 172046
                },
                {
                  "image_id": "120104710.jpg",
                  "Wearing_Accessories": 0,
                  "Thick_Lips_Nose": 1,
                  "_deepnote_index_column": 172047
                },
                {
                  "image_id": "104240359.jpg",
                  "Wearing_Accessories": 0,
                  "Thick_Lips_Nose": 1,
                  "_deepnote_index_column": 172048
                },
                {
                  "image_id": "121924499.jpg",
                  "Wearing_Accessories": 1,
                  "Thick_Lips_Nose": 0,
                  "_deepnote_index_column": 172049
                },
                {
                  "image_id": "122175660.jpg",
                  "Wearing_Accessories": 1,
                  "Thick_Lips_Nose": 0,
                  "_deepnote_index_column": 172050
                },
                {
                  "image_id": "114066759.jpg",
                  "Wearing_Accessories": 0,
                  "Thick_Lips_Nose": 0,
                  "_deepnote_index_column": 172051
                },
                {
                  "image_id": "112068210.jpg",
                  "Wearing_Accessories": 0,
                  "Thick_Lips_Nose": 0,
                  "_deepnote_index_column": 172052
                },
                {
                  "image_id": "109888800.jpg",
                  "Wearing_Accessories": 0,
                  "Thick_Lips_Nose": 0,
                  "_deepnote_index_column": 172053
                },
                {
                  "image_id": "111137599.jpg",
                  "Wearing_Accessories": 1,
                  "Thick_Lips_Nose": 1,
                  "_deepnote_index_column": 172054
                },
                {
                  "image_id": "102846260.jpg",
                  "Wearing_Accessories": 0,
                  "Thick_Lips_Nose": 0,
                  "_deepnote_index_column": 172055
                },
                {
                  "image_id": "119464400.jpg",
                  "Wearing_Accessories": 1,
                  "Thick_Lips_Nose": 0,
                  "_deepnote_index_column": 172056
                },
                {
                  "image_id": "120406080.jpg",
                  "Wearing_Accessories": 0,
                  "Thick_Lips_Nose": 0,
                  "_deepnote_index_column": 172057
                },
                {
                  "image_id": "116093440.jpg",
                  "Wearing_Accessories": 0,
                  "Thick_Lips_Nose": 0,
                  "_deepnote_index_column": 172058
                },
                {
                  "image_id": "111500740.jpg",
                  "Wearing_Accessories": 0,
                  "Thick_Lips_Nose": 0,
                  "_deepnote_index_column": 172059
                },
                {
                  "image_id": "117463360.jpg",
                  "Wearing_Accessories": 0,
                  "Thick_Lips_Nose": 0,
                  "_deepnote_index_column": 172060
                },
                {
                  "image_id": "100956360.jpg",
                  "Wearing_Accessories": 0,
                  "Thick_Lips_Nose": 1,
                  "_deepnote_index_column": 172061
                },
                {
                  "image_id": "101353930.jpg",
                  "Wearing_Accessories": 0,
                  "Thick_Lips_Nose": 0,
                  "_deepnote_index_column": 172062
                },
                {
                  "image_id": "110098530.jpg",
                  "Wearing_Accessories": 0,
                  "Thick_Lips_Nose": 0,
                  "_deepnote_index_column": 172063
                },
                {
                  "image_id": "113663150.jpg",
                  "Wearing_Accessories": 1,
                  "Thick_Lips_Nose": 1,
                  "_deepnote_index_column": 172064
                },
                {
                  "image_id": "117447750.jpg",
                  "Wearing_Accessories": 1,
                  "Thick_Lips_Nose": 0,
                  "_deepnote_index_column": 172065
                },
                {
                  "image_id": "112872790.jpg",
                  "Wearing_Accessories": 1,
                  "Thick_Lips_Nose": 0,
                  "_deepnote_index_column": 172066
                },
                {
                  "image_id": "118438680.jpg",
                  "Wearing_Accessories": 0,
                  "Thick_Lips_Nose": 1,
                  "_deepnote_index_column": 172067
                },
                {
                  "image_id": "92631230.jpg",
                  "Wearing_Accessories": 0,
                  "Thick_Lips_Nose": 0,
                  "_deepnote_index_column": 172068
                },
                {
                  "image_id": "102717700.jpg",
                  "Wearing_Accessories": 1,
                  "Thick_Lips_Nose": 0,
                  "_deepnote_index_column": 172069
                },
                {
                  "image_id": "104861500.jpg",
                  "Wearing_Accessories": 0,
                  "Thick_Lips_Nose": 1,
                  "_deepnote_index_column": 172070
                },
                {
                  "image_id": "120601510.jpg",
                  "Wearing_Accessories": 0,
                  "Thick_Lips_Nose": 1,
                  "_deepnote_index_column": 172071
                },
                {
                  "image_id": "113069950.jpg",
                  "Wearing_Accessories": 0,
                  "Thick_Lips_Nose": 1,
                  "_deepnote_index_column": 172072
                },
                {
                  "image_id": "111912310.jpg",
                  "Wearing_Accessories": 0,
                  "Thick_Lips_Nose": 1,
                  "_deepnote_index_column": 172073
                },
                {
                  "image_id": "117478950.jpg",
                  "Wearing_Accessories": 1,
                  "Thick_Lips_Nose": 0,
                  "_deepnote_index_column": 172074
                },
                {
                  "image_id": "97942310.jpg",
                  "Wearing_Accessories": 0,
                  "Thick_Lips_Nose": 1,
                  "_deepnote_index_column": 172075
                },
                {
                  "image_id": "111132090.jpg",
                  "Wearing_Accessories": 0,
                  "Thick_Lips_Nose": 0,
                  "_deepnote_index_column": 172076
                },
                {
                  "image_id": "116493950.jpg",
                  "Wearing_Accessories": 1,
                  "Thick_Lips_Nose": 0,
                  "_deepnote_index_column": 172077
                },
                {
                  "image_id": "118903820.jpg",
                  "Wearing_Accessories": 1,
                  "Thick_Lips_Nose": 0,
                  "_deepnote_index_column": 172078
                },
                {
                  "image_id": "119743800.jpg",
                  "Wearing_Accessories": 0,
                  "Thick_Lips_Nose": 0,
                  "_deepnote_index_column": 172079
                },
                {
                  "image_id": "115114940.jpg",
                  "Wearing_Accessories": 0,
                  "Thick_Lips_Nose": 0,
                  "_deepnote_index_column": 172080
                },
                {
                  "image_id": "99166010.jpg",
                  "Wearing_Accessories": 0,
                  "Thick_Lips_Nose": 1,
                  "_deepnote_index_column": 172081
                },
                {
                  "image_id": "108991070.jpg",
                  "Wearing_Accessories": 1,
                  "Thick_Lips_Nose": 1,
                  "_deepnote_index_column": 172082
                },
                {
                  "image_id": "102206309.jpg",
                  "Wearing_Accessories": 0,
                  "Thick_Lips_Nose": 1,
                  "_deepnote_index_column": 172083
                },
                {
                  "image_id": "116152560.jpg",
                  "Wearing_Accessories": 0,
                  "Thick_Lips_Nose": 0,
                  "_deepnote_index_column": 172084
                },
                {
                  "image_id": "118729610.jpg",
                  "Wearing_Accessories": 1,
                  "Thick_Lips_Nose": 1,
                  "_deepnote_index_column": 172085
                },
                {
                  "image_id": "121906700.jpg",
                  "Wearing_Accessories": 0,
                  "Thick_Lips_Nose": 0,
                  "_deepnote_index_column": 172086
                },
                {
                  "image_id": "121862980.jpg",
                  "Wearing_Accessories": 0,
                  "Thick_Lips_Nose": 0,
                  "_deepnote_index_column": 172087
                },
                {
                  "image_id": "117456310.jpg",
                  "Wearing_Accessories": 1,
                  "Thick_Lips_Nose": 1,
                  "_deepnote_index_column": 172088
                },
                {
                  "image_id": "117191180.jpg",
                  "Wearing_Accessories": 1,
                  "Thick_Lips_Nose": 0,
                  "_deepnote_index_column": 172089
                },
                {
                  "image_id": "116607679.jpg",
                  "Wearing_Accessories": 0,
                  "Thick_Lips_Nose": 0,
                  "_deepnote_index_column": 172090
                },
                {
                  "image_id": "112356560.jpg",
                  "Wearing_Accessories": 1,
                  "Thick_Lips_Nose": 1,
                  "_deepnote_index_column": 172091
                },
                {
                  "image_id": "107834250.jpg",
                  "Wearing_Accessories": 0,
                  "Thick_Lips_Nose": 0,
                  "_deepnote_index_column": 172092
                },
                {
                  "image_id": "103342300.jpg",
                  "Wearing_Accessories": 0,
                  "Thick_Lips_Nose": 0,
                  "_deepnote_index_column": 172093
                },
                {
                  "image_id": "110850770.jpg",
                  "Wearing_Accessories": 1,
                  "Thick_Lips_Nose": 0,
                  "_deepnote_index_column": 172094
                },
                {
                  "image_id": "109403659.jpg",
                  "Wearing_Accessories": 1,
                  "Thick_Lips_Nose": 1,
                  "_deepnote_index_column": 172095
                },
                {
                  "image_id": "111708440.jpg",
                  "Wearing_Accessories": 0,
                  "Thick_Lips_Nose": 1,
                  "_deepnote_index_column": 172096
                },
                {
                  "image_id": "112698340.jpg",
                  "Wearing_Accessories": 1,
                  "Thick_Lips_Nose": 1,
                  "_deepnote_index_column": 172097
                },
                {
                  "image_id": "119824910.jpg",
                  "Wearing_Accessories": 0,
                  "Thick_Lips_Nose": 0,
                  "_deepnote_index_column": 172098
                },
                {
                  "image_id": "113825890.jpg",
                  "Wearing_Accessories": 0,
                  "Thick_Lips_Nose": 0,
                  "_deepnote_index_column": 172099
                },
                {
                  "image_id": "117169680.jpg",
                  "Wearing_Accessories": 0,
                  "Thick_Lips_Nose": 1,
                  "_deepnote_index_column": 172100
                },
                {
                  "image_id": "115062030.jpg",
                  "Wearing_Accessories": 0,
                  "Thick_Lips_Nose": 0,
                  "_deepnote_index_column": 172101
                },
                {
                  "image_id": "106585059.jpg",
                  "Wearing_Accessories": 1,
                  "Thick_Lips_Nose": 0,
                  "_deepnote_index_column": 172102
                },
                {
                  "image_id": "119399690.jpg",
                  "Wearing_Accessories": 1,
                  "Thick_Lips_Nose": 0,
                  "_deepnote_index_column": 172103
                },
                {
                  "image_id": "97105090.jpg",
                  "Wearing_Accessories": 1,
                  "Thick_Lips_Nose": 0,
                  "_deepnote_index_column": 172104
                },
                {
                  "image_id": "120542260.jpg",
                  "Wearing_Accessories": 0,
                  "Thick_Lips_Nose": 0,
                  "_deepnote_index_column": 172105
                },
                {
                  "image_id": "120956100.jpg",
                  "Wearing_Accessories": 1,
                  "Thick_Lips_Nose": 1,
                  "_deepnote_index_column": 172106
                },
                {
                  "image_id": "113439390.jpg",
                  "Wearing_Accessories": 1,
                  "Thick_Lips_Nose": 0,
                  "_deepnote_index_column": 172107
                },
                {
                  "image_id": "108697300.jpg",
                  "Wearing_Accessories": 0,
                  "Thick_Lips_Nose": 1,
                  "_deepnote_index_column": 172108
                },
                {
                  "image_id": "118002369.jpg",
                  "Wearing_Accessories": 1,
                  "Thick_Lips_Nose": 1,
                  "_deepnote_index_column": 172109
                },
                {
                  "image_id": "120279080.jpg",
                  "Wearing_Accessories": 1,
                  "Thick_Lips_Nose": 0,
                  "_deepnote_index_column": 172110
                },
                {
                  "image_id": "98200520.jpg",
                  "Wearing_Accessories": 0,
                  "Thick_Lips_Nose": 0,
                  "_deepnote_index_column": 172111
                },
                {
                  "image_id": "113237000.jpg",
                  "Wearing_Accessories": 0,
                  "Thick_Lips_Nose": 0,
                  "_deepnote_index_column": 172112
                },
                {
                  "image_id": "111306980.jpg",
                  "Wearing_Accessories": 1,
                  "Thick_Lips_Nose": 1,
                  "_deepnote_index_column": 172113
                },
                {
                  "image_id": "118285389.jpg",
                  "Wearing_Accessories": 1,
                  "Thick_Lips_Nose": 1,
                  "_deepnote_index_column": 172114
                },
                {
                  "image_id": "116099340.jpg",
                  "Wearing_Accessories": 1,
                  "Thick_Lips_Nose": 0,
                  "_deepnote_index_column": 172115
                },
                {
                  "image_id": "116307090.jpg",
                  "Wearing_Accessories": 0,
                  "Thick_Lips_Nose": 0,
                  "_deepnote_index_column": 172116
                },
                {
                  "image_id": "121502480.jpg",
                  "Wearing_Accessories": 1,
                  "Thick_Lips_Nose": 1,
                  "_deepnote_index_column": 172117
                },
                {
                  "image_id": "121651260.jpg",
                  "Wearing_Accessories": 1,
                  "Thick_Lips_Nose": 0,
                  "_deepnote_index_column": 172118
                },
                {
                  "image_id": "112048770.jpg",
                  "Wearing_Accessories": 0,
                  "Thick_Lips_Nose": 1,
                  "_deepnote_index_column": 172119
                },
                {
                  "image_id": "121772259.jpg",
                  "Wearing_Accessories": 1,
                  "Thick_Lips_Nose": 1,
                  "_deepnote_index_column": 172120
                },
                {
                  "image_id": "114471700.jpg",
                  "Wearing_Accessories": 0,
                  "Thick_Lips_Nose": 0,
                  "_deepnote_index_column": 172121
                },
                {
                  "image_id": "115185990.jpg",
                  "Wearing_Accessories": 0,
                  "Thick_Lips_Nose": 0,
                  "_deepnote_index_column": 172122
                },
                {
                  "image_id": "109320350.jpg",
                  "Wearing_Accessories": 0,
                  "Thick_Lips_Nose": 0,
                  "_deepnote_index_column": 172123
                },
                {
                  "image_id": "111554930.jpg",
                  "Wearing_Accessories": 1,
                  "Thick_Lips_Nose": 1,
                  "_deepnote_index_column": 172124
                },
                {
                  "image_id": "119315310.jpg",
                  "Wearing_Accessories": 0,
                  "Thick_Lips_Nose": 0,
                  "_deepnote_index_column": 172125
                },
                {
                  "image_id": "113080880.jpg",
                  "Wearing_Accessories": 0,
                  "Thick_Lips_Nose": 0,
                  "_deepnote_index_column": 172126
                },
                {
                  "image_id": "113501590.jpg",
                  "Wearing_Accessories": 1,
                  "Thick_Lips_Nose": 1,
                  "_deepnote_index_column": 172127
                },
                {
                  "image_id": "102562550.jpg",
                  "Wearing_Accessories": 0,
                  "Thick_Lips_Nose": 0,
                  "_deepnote_index_column": 172128
                },
                {
                  "image_id": "115770550.jpg",
                  "Wearing_Accessories": 0,
                  "Thick_Lips_Nose": 1,
                  "_deepnote_index_column": 172129
                },
                {
                  "image_id": "119967330.jpg",
                  "Wearing_Accessories": 1,
                  "Thick_Lips_Nose": 1,
                  "_deepnote_index_column": 172130
                },
                {
                  "image_id": "106031140.jpg",
                  "Wearing_Accessories": 0,
                  "Thick_Lips_Nose": 1,
                  "_deepnote_index_column": 172131
                },
                {
                  "image_id": "118976840.jpg",
                  "Wearing_Accessories": 1,
                  "Thick_Lips_Nose": 1,
                  "_deepnote_index_column": 172132
                },
                {
                  "image_id": "101178730.jpg",
                  "Wearing_Accessories": 1,
                  "Thick_Lips_Nose": 0,
                  "_deepnote_index_column": 172133
                },
                {
                  "image_id": "106134180.jpg",
                  "Wearing_Accessories": 0,
                  "Thick_Lips_Nose": 0,
                  "_deepnote_index_column": 172134
                },
                {
                  "image_id": "117269070.jpg",
                  "Wearing_Accessories": 1,
                  "Thick_Lips_Nose": 1,
                  "_deepnote_index_column": 172135
                },
                {
                  "image_id": "105367520.jpg",
                  "Wearing_Accessories": 0,
                  "Thick_Lips_Nose": 0,
                  "_deepnote_index_column": 172136
                },
                {
                  "image_id": "114845770.jpg",
                  "Wearing_Accessories": 1,
                  "Thick_Lips_Nose": 1,
                  "_deepnote_index_column": 172137
                },
                {
                  "image_id": "82602340.jpg",
                  "Wearing_Accessories": 0,
                  "Thick_Lips_Nose": 1,
                  "_deepnote_index_column": 172138
                },
                {
                  "image_id": "96907890.jpg",
                  "Wearing_Accessories": 1,
                  "Thick_Lips_Nose": 1,
                  "_deepnote_index_column": 172139
                },
                {
                  "image_id": "113785820.jpg",
                  "Wearing_Accessories": 0,
                  "Thick_Lips_Nose": 1,
                  "_deepnote_index_column": 172140
                },
                {
                  "image_id": "115658310.jpg",
                  "Wearing_Accessories": 0,
                  "Thick_Lips_Nose": 1,
                  "_deepnote_index_column": 172141
                },
                {
                  "image_id": "112334500.jpg",
                  "Wearing_Accessories": 0,
                  "Thick_Lips_Nose": 1,
                  "_deepnote_index_column": 172142
                },
                {
                  "image_id": "108396200.jpg",
                  "Wearing_Accessories": 1,
                  "Thick_Lips_Nose": 0,
                  "_deepnote_index_column": 172143
                },
                {
                  "image_id": "120374649.jpg",
                  "Wearing_Accessories": 1,
                  "Thick_Lips_Nose": 0,
                  "_deepnote_index_column": 172144
                },
                {
                  "image_id": "112447579.jpg",
                  "Wearing_Accessories": 0,
                  "Thick_Lips_Nose": 0,
                  "_deepnote_index_column": 172145
                },
                {
                  "image_id": "114733530.jpg",
                  "Wearing_Accessories": 1,
                  "Thick_Lips_Nose": 0,
                  "_deepnote_index_column": 172146
                },
                {
                  "image_id": "120175360.jpg",
                  "Wearing_Accessories": 1,
                  "Thick_Lips_Nose": 0,
                  "_deepnote_index_column": 172147
                },
                {
                  "image_id": "115849110.jpg",
                  "Wearing_Accessories": 0,
                  "Thick_Lips_Nose": 1,
                  "_deepnote_index_column": 172148
                },
                {
                  "image_id": "111501460.jpg",
                  "Wearing_Accessories": 0,
                  "Thick_Lips_Nose": 0,
                  "_deepnote_index_column": 172149
                },
                {
                  "image_id": "105846129.jpg",
                  "Wearing_Accessories": 0,
                  "Thick_Lips_Nose": 1,
                  "_deepnote_index_column": 172150
                },
                {
                  "image_id": "119902270.jpg",
                  "Wearing_Accessories": 0,
                  "Thick_Lips_Nose": 0,
                  "_deepnote_index_column": 172151
                },
                {
                  "image_id": "114139220.jpg",
                  "Wearing_Accessories": 0,
                  "Thick_Lips_Nose": 1,
                  "_deepnote_index_column": 172152
                },
                {
                  "image_id": "96543210.jpg",
                  "Wearing_Accessories": 0,
                  "Thick_Lips_Nose": 1,
                  "_deepnote_index_column": 172153
                },
                {
                  "image_id": "120791989.jpg",
                  "Wearing_Accessories": 0,
                  "Thick_Lips_Nose": 1,
                  "_deepnote_index_column": 172154
                },
                {
                  "image_id": "121864620.jpg",
                  "Wearing_Accessories": 1,
                  "Thick_Lips_Nose": 0,
                  "_deepnote_index_column": 172155
                },
                {
                  "image_id": "122187320.jpg",
                  "Wearing_Accessories": 1,
                  "Thick_Lips_Nose": 0,
                  "_deepnote_index_column": 172156
                },
                {
                  "image_id": "112630530.jpg",
                  "Wearing_Accessories": 1,
                  "Thick_Lips_Nose": 0,
                  "_deepnote_index_column": 172157
                },
                {
                  "image_id": "110764340.jpg",
                  "Wearing_Accessories": 0,
                  "Thick_Lips_Nose": 0,
                  "_deepnote_index_column": 172158
                },
                {
                  "image_id": "100998350.jpg",
                  "Wearing_Accessories": 0,
                  "Thick_Lips_Nose": 1,
                  "_deepnote_index_column": 172159
                },
                {
                  "image_id": "120022170.jpg",
                  "Wearing_Accessories": 0,
                  "Thick_Lips_Nose": 1,
                  "_deepnote_index_column": 172160
                },
                {
                  "image_id": "115868629.jpg",
                  "Wearing_Accessories": 0,
                  "Thick_Lips_Nose": 1,
                  "_deepnote_index_column": 172161
                },
                {
                  "image_id": "122106270.jpg",
                  "Wearing_Accessories": 1,
                  "Thick_Lips_Nose": 0,
                  "_deepnote_index_column": 172162
                },
                {
                  "image_id": "111875140.jpg",
                  "Wearing_Accessories": 0,
                  "Thick_Lips_Nose": 0,
                  "_deepnote_index_column": 172163
                },
                {
                  "image_id": "104343800.jpg",
                  "Wearing_Accessories": 0,
                  "Thick_Lips_Nose": 0,
                  "_deepnote_index_column": 172164
                },
                {
                  "image_id": "121428239.jpg",
                  "Wearing_Accessories": 1,
                  "Thick_Lips_Nose": 0,
                  "_deepnote_index_column": 172165
                },
                {
                  "image_id": "120939780.jpg",
                  "Wearing_Accessories": 1,
                  "Thick_Lips_Nose": 0,
                  "_deepnote_index_column": 172166
                },
                {
                  "image_id": "111715610.jpg",
                  "Wearing_Accessories": 1,
                  "Thick_Lips_Nose": 0,
                  "_deepnote_index_column": 172167
                },
                {
                  "image_id": "122005220.jpg",
                  "Wearing_Accessories": 0,
                  "Thick_Lips_Nose": 0,
                  "_deepnote_index_column": 172168
                },
                {
                  "image_id": "119424780.jpg",
                  "Wearing_Accessories": 0,
                  "Thick_Lips_Nose": 1,
                  "_deepnote_index_column": 172169
                },
                {
                  "image_id": "73846100.jpg",
                  "Wearing_Accessories": 1,
                  "Thick_Lips_Nose": 1,
                  "_deepnote_index_column": 172170
                },
                {
                  "image_id": "113667310.jpg",
                  "Wearing_Accessories": 1,
                  "Thick_Lips_Nose": 0,
                  "_deepnote_index_column": 172171
                },
                {
                  "image_id": "116009820.jpg",
                  "Wearing_Accessories": 0,
                  "Thick_Lips_Nose": 1,
                  "_deepnote_index_column": 172172
                },
                {
                  "image_id": "121748500.jpg",
                  "Wearing_Accessories": 0,
                  "Thick_Lips_Nose": 0,
                  "_deepnote_index_column": 172173
                },
                {
                  "image_id": "107508570.jpg",
                  "Wearing_Accessories": 0,
                  "Thick_Lips_Nose": 0,
                  "_deepnote_index_column": 172174
                },
                {
                  "image_id": "99674950.jpg",
                  "Wearing_Accessories": 1,
                  "Thick_Lips_Nose": 0,
                  "_deepnote_index_column": 172175
                },
                {
                  "image_id": "110911790.jpg",
                  "Wearing_Accessories": 0,
                  "Thick_Lips_Nose": 0,
                  "_deepnote_index_column": 172176
                },
                {
                  "image_id": "118490480.jpg",
                  "Wearing_Accessories": 0,
                  "Thick_Lips_Nose": 0,
                  "_deepnote_index_column": 172177
                },
                {
                  "image_id": "103933860.jpg",
                  "Wearing_Accessories": 0,
                  "Thick_Lips_Nose": 1,
                  "_deepnote_index_column": 172178
                },
                {
                  "image_id": "108354740.jpg",
                  "Wearing_Accessories": 0,
                  "Thick_Lips_Nose": 0,
                  "_deepnote_index_column": 172179
                },
                {
                  "image_id": "118197260.jpg",
                  "Wearing_Accessories": 0,
                  "Thick_Lips_Nose": 1,
                  "_deepnote_index_column": 172180
                },
                {
                  "image_id": "121588970.jpg",
                  "Wearing_Accessories": 1,
                  "Thick_Lips_Nose": 0,
                  "_deepnote_index_column": 172181
                },
                {
                  "image_id": "121100190.jpg",
                  "Wearing_Accessories": 0,
                  "Thick_Lips_Nose": 1,
                  "_deepnote_index_column": 172182
                },
                {
                  "image_id": "117065410.jpg",
                  "Wearing_Accessories": 1,
                  "Thick_Lips_Nose": 1,
                  "_deepnote_index_column": 172183
                },
                {
                  "image_id": "91565180.jpg",
                  "Wearing_Accessories": 1,
                  "Thick_Lips_Nose": 0,
                  "_deepnote_index_column": 172184
                },
                {
                  "image_id": "116719610.jpg",
                  "Wearing_Accessories": 0,
                  "Thick_Lips_Nose": 0,
                  "_deepnote_index_column": 172185
                },
                {
                  "image_id": "120560630.jpg",
                  "Wearing_Accessories": 1,
                  "Thick_Lips_Nose": 1,
                  "_deepnote_index_column": 172186
                },
                {
                  "image_id": "113806160.jpg",
                  "Wearing_Accessories": 1,
                  "Thick_Lips_Nose": 1,
                  "_deepnote_index_column": 172187
                },
                {
                  "image_id": "99240250.jpg",
                  "Wearing_Accessories": 0,
                  "Thick_Lips_Nose": 1,
                  "_deepnote_index_column": 172188
                },
                {
                  "image_id": "121692220.jpg",
                  "Wearing_Accessories": 0,
                  "Thick_Lips_Nose": 0,
                  "_deepnote_index_column": 172189
                },
                {
                  "image_id": "117029590.jpg",
                  "Wearing_Accessories": 0,
                  "Thick_Lips_Nose": 0,
                  "_deepnote_index_column": 172190
                },
                {
                  "image_id": "121003680.jpg",
                  "Wearing_Accessories": 1,
                  "Thick_Lips_Nose": 1,
                  "_deepnote_index_column": 172191
                },
                {
                  "image_id": "107011070.jpg",
                  "Wearing_Accessories": 0,
                  "Thick_Lips_Nose": 0,
                  "_deepnote_index_column": 172192
                },
                {
                  "image_id": "113096460.jpg",
                  "Wearing_Accessories": 1,
                  "Thick_Lips_Nose": 1,
                  "_deepnote_index_column": 172193
                },
                {
                  "image_id": "88978190.jpg",
                  "Wearing_Accessories": 1,
                  "Thick_Lips_Nose": 0,
                  "_deepnote_index_column": 172194
                },
                {
                  "image_id": "91592580.jpg",
                  "Wearing_Accessories": 0,
                  "Thick_Lips_Nose": 0,
                  "_deepnote_index_column": 172195
                },
                {
                  "image_id": "122054470.jpg",
                  "Wearing_Accessories": 1,
                  "Thick_Lips_Nose": 1,
                  "_deepnote_index_column": 172196
                },
                {
                  "image_id": "120988830.jpg",
                  "Wearing_Accessories": 0,
                  "Thick_Lips_Nose": 0,
                  "_deepnote_index_column": 172197
                },
                {
                  "image_id": "117682570.jpg",
                  "Wearing_Accessories": 0,
                  "Thick_Lips_Nose": 0,
                  "_deepnote_index_column": 172198
                }
              ]
            },
            "text/plain": "             image_id  Wearing_Accessories  Thick_Lips_Nose\n0       108829970.jpg                    0                1\n1       116516170.jpg                    0                0\n2       120840350.jpg                    1                0\n3       109640690.jpg                    0                1\n4       115812100.jpg                    0                0\n...               ...                  ...              ...\n172194   88978190.jpg                    1                0\n172195   91592580.jpg                    0                0\n172196  122054470.jpg                    1                1\n172197  120988830.jpg                    0                0\n172198  117682570.jpg                    0                0\n\n[172199 rows x 3 columns]",
            "text/html": "<div>\n<style scoped>\n    .dataframe tbody tr th:only-of-type {\n        vertical-align: middle;\n    }\n\n    .dataframe tbody tr th {\n        vertical-align: top;\n    }\n\n    .dataframe thead th {\n        text-align: right;\n    }\n</style>\n<table border=\"1\" class=\"dataframe\">\n  <thead>\n    <tr style=\"text-align: right;\">\n      <th></th>\n      <th>image_id</th>\n      <th>Wearing_Accessories</th>\n      <th>Thick_Lips_Nose</th>\n    </tr>\n  </thead>\n  <tbody>\n    <tr>\n      <th>0</th>\n      <td>108829970.jpg</td>\n      <td>0</td>\n      <td>1</td>\n    </tr>\n    <tr>\n      <th>1</th>\n      <td>116516170.jpg</td>\n      <td>0</td>\n      <td>0</td>\n    </tr>\n    <tr>\n      <th>2</th>\n      <td>120840350.jpg</td>\n      <td>1</td>\n      <td>0</td>\n    </tr>\n    <tr>\n      <th>3</th>\n      <td>109640690.jpg</td>\n      <td>0</td>\n      <td>1</td>\n    </tr>\n    <tr>\n      <th>4</th>\n      <td>115812100.jpg</td>\n      <td>0</td>\n      <td>0</td>\n    </tr>\n    <tr>\n      <th>...</th>\n      <td>...</td>\n      <td>...</td>\n      <td>...</td>\n    </tr>\n    <tr>\n      <th>172194</th>\n      <td>88978190.jpg</td>\n      <td>1</td>\n      <td>0</td>\n    </tr>\n    <tr>\n      <th>172195</th>\n      <td>91592580.jpg</td>\n      <td>0</td>\n      <td>0</td>\n    </tr>\n    <tr>\n      <th>172196</th>\n      <td>122054470.jpg</td>\n      <td>1</td>\n      <td>1</td>\n    </tr>\n    <tr>\n      <th>172197</th>\n      <td>120988830.jpg</td>\n      <td>0</td>\n      <td>0</td>\n    </tr>\n    <tr>\n      <th>172198</th>\n      <td>117682570.jpg</td>\n      <td>0</td>\n      <td>0</td>\n    </tr>\n  </tbody>\n</table>\n<p>172199 rows × 3 columns</p>\n</div>"
          },
          "metadata": {}
        }
      ]
    },
    {
      "cell_type": "markdown",
      "source": "As&nbsp;you&nbsp;can&nbsp;note,&nbsp;we&nbsp;have&nbsp;172199&nbsp;rows,&nbsp;and&nbsp;thus,&nbsp;172199&nbsp;images.",
      "metadata": {
        "tags": [],
        "cell_id": "00009-e6825ec6-dfe4-4384-b664-51ebf0629881",
        "deepnote_cell_type": "text-cell-p"
      }
    },
    {
      "cell_type": "markdown",
      "source": "## Data Visualization",
      "metadata": {
        "tags": [],
        "cell_id": "00008-1ea148ad-4dd6-47c8-b97e-bf478ab3e31d",
        "deepnote_cell_type": "text-cell-h2"
      }
    },
    {
      "cell_type": "markdown",
      "source": "Here we will plot the distribution of all the attributes in the dataset. As mentioned before, our primary goal is to identify celebrity features. As a result, we need to be aware of the distribution of the data for our next steps",
      "metadata": {
        "tags": [],
        "cell_id": "00009-9d2d33fe-7bde-4355-b64a-91ecbec27385",
        "deepnote_cell_type": "text-cell-p"
      }
    },
    {
      "cell_type": "code",
      "metadata": {
        "colab": {
          "base_uri": "https://localhost:8080/",
          "height": 299
        },
        "id": "y6Nb_jOUe1GS",
        "outputId": "40686abb-ca29-47a3-bb76-28cddf31dc5f",
        "cell_id": "00004-7d8f04a3-773c-4319-98de-5d8b457b5c79",
        "deepnote_cell_type": "code"
      },
      "source": "#Wearing Accessories or not?\nplt.title('Wearing Accessories or not')\nsns.countplot(y='Wearing_Accessories', data=df_attr, color=\"c\")\nplt.show()",
      "execution_count": null,
      "outputs": [
        {
          "output_type": "display_data",
          "data": {
            "image/png": "[encoded data removed]",
            "text/plain": "<Figure size 432x288 with 1 Axes>"
          },
          "metadata": {
            "tags": []
          }
        }
      ]
    },
    {
      "cell_type": "code",
      "metadata": {
        "colab": {
          "base_uri": "https://localhost:8080/",
          "height": 299
        },
        "id": "usH5RC_ifPkk",
        "outputId": "67e9b036-1838-40cc-db48-aaed48ba4435",
        "cell_id": "00005-0ad07564-a3be-4d01-8da4-a393f788e439",
        "deepnote_cell_type": "code"
      },
      "source": "#Thick or thin lips and nose?\nplt.title('Thick Lips or not')\nsns.countplot(y='Thick_Lips_Nose', data=df_attr, color=\"c\")\nplt.show()",
      "execution_count": null,
      "outputs": [
        {
          "output_type": "display_data",
          "data": {
            "image/png": "[encoded data removed]",
            "text/plain": "<Figure size 432x288 with 1 Axes>"
          },
          "metadata": {
            "tags": []
          }
        }
      ]
    },
    {
      "cell_type": "markdown",
      "source": "## Splitting the Dataset into Test and Validation ",
      "metadata": {
        "tags": [],
        "cell_id": "00012-5cbca0c6-5f39-498e-a47b-4a2152ef4961",
        "deepnote_cell_type": "text-cell-h2"
      }
    },
    {
      "cell_type": "markdown",
      "source": "We split our data into 75% test data and 25% validation data, although other splits may be explored. It is important that we have validation data so that we can tune our hyperparameter values.",
      "metadata": {
        "tags": [],
        "cell_id": "00015-271a9c80-f4f3-42f3-a13c-3130920186c8",
        "deepnote_cell_type": "text-cell-p"
      }
    },
    {
      "cell_type": "code",
      "metadata": {
        "id": "vhDmWRnH77g_",
        "cell_id": "00006-7e2edad5-cf8e-4e46-8741-c5a517e390e3",
        "deepnote_cell_type": "code"
      },
      "source": "#Loading train and validation dataset using the recommended partition\ntrain_df, val_df = train_test_split(df_attr, test_size = 0.25)",
      "execution_count": null,
      "outputs": []
    },
    {
      "cell_type": "code",
      "metadata": {
        "colab": {
          "base_uri": "https://localhost:8080/",
          "height": 203
        },
        "id": "4MlFKZMPlvtG",
        "outputId": "66454aa4-0086-4bb0-dd8f-75b8cdb31e83",
        "cell_id": "00007-901919a0-5787-4cc0-89f4-5a3819399a38",
        "deepnote_cell_type": "code"
      },
      "source": "train_df.head()",
      "execution_count": null,
      "outputs": [
        {
          "output_type": "execute_result",
          "data": {
            "text/html": "<div>\n<style scoped>\n    .dataframe tbody tr th:only-of-type {\n        vertical-align: middle;\n    }\n\n    .dataframe tbody tr th {\n        vertical-align: top;\n    }\n\n    .dataframe thead th {\n        text-align: right;\n    }\n</style>\n<table border=\"1\" class=\"dataframe\">\n  <thead>\n    <tr style=\"text-align: right;\">\n      <th></th>\n      <th>image_id</th>\n      <th>Wearing_Accessories</th>\n      <th>Thick_Lips_Nose</th>\n    </tr>\n  </thead>\n  <tbody>\n    <tr>\n      <th>117340</th>\n      <td>99640650.jpg</td>\n      <td>0</td>\n      <td>1</td>\n    </tr>\n    <tr>\n      <th>46100</th>\n      <td>88546650.jpg</td>\n      <td>0</td>\n      <td>1</td>\n    </tr>\n    <tr>\n      <th>36237</th>\n      <td>118783250.jpg</td>\n      <td>0</td>\n      <td>0</td>\n    </tr>\n    <tr>\n      <th>114540</th>\n      <td>89744910.jpg</td>\n      <td>0</td>\n      <td>0</td>\n    </tr>\n    <tr>\n      <th>142226</th>\n      <td>118190190.jpg</td>\n      <td>0</td>\n      <td>1</td>\n    </tr>\n  </tbody>\n</table>\n</div>",
            "text/plain": "             image_id  Wearing_Accessories  Thick_Lips_Nose\n117340   99640650.jpg                    0                1\n46100    88546650.jpg                    0                1\n36237   118783250.jpg                    0                0\n114540   89744910.jpg                    0                0\n142226  118190190.jpg                    0                1"
          },
          "metadata": {
            "tags": []
          },
          "execution_count": 65
        }
      ]
    },
    {
      "cell_type": "code",
      "metadata": {
        "colab": {
          "base_uri": "https://localhost:8080/",
          "height": 203
        },
        "id": "45mnBZlvlzth",
        "outputId": "eb447393-0110-4214-8d22-6b3bc73b9d82",
        "cell_id": "00008-cdeac759-321c-443b-b1c4-6f364e345851",
        "deepnote_cell_type": "code"
      },
      "source": "val_df.head()",
      "execution_count": null,
      "outputs": [
        {
          "output_type": "execute_result",
          "data": {
            "text/html": "<div>\n<style scoped>\n    .dataframe tbody tr th:only-of-type {\n        vertical-align: middle;\n    }\n\n    .dataframe tbody tr th {\n        vertical-align: top;\n    }\n\n    .dataframe thead th {\n        text-align: right;\n    }\n</style>\n<table border=\"1\" class=\"dataframe\">\n  <thead>\n    <tr style=\"text-align: right;\">\n      <th></th>\n      <th>image_id</th>\n      <th>Wearing_Accessories</th>\n      <th>Thick_Lips_Nose</th>\n    </tr>\n  </thead>\n  <tbody>\n    <tr>\n      <th>63243</th>\n      <td>121408300.jpg</td>\n      <td>0</td>\n      <td>0</td>\n    </tr>\n    <tr>\n      <th>110390</th>\n      <td>110485380.jpg</td>\n      <td>0</td>\n      <td>0</td>\n    </tr>\n    <tr>\n      <th>74947</th>\n      <td>113073270.jpg</td>\n      <td>0</td>\n      <td>1</td>\n    </tr>\n    <tr>\n      <th>24006</th>\n      <td>120111890.jpg</td>\n      <td>1</td>\n      <td>0</td>\n    </tr>\n    <tr>\n      <th>19598</th>\n      <td>113731920.jpg</td>\n      <td>1</td>\n      <td>0</td>\n    </tr>\n  </tbody>\n</table>\n</div>",
            "text/plain": "             image_id  Wearing_Accessories  Thick_Lips_Nose\n63243   121408300.jpg                    0                0\n110390  110485380.jpg                    0                0\n74947   113073270.jpg                    0                1\n24006   120111890.jpg                    1                0\n19598   113731920.jpg                    1                0"
          },
          "metadata": {
            "tags": []
          },
          "execution_count": 66
        }
      ]
    },
    {
      "cell_type": "markdown",
      "source": "## Building Data Generators",
      "metadata": {
        "tags": [],
        "cell_id": "00018-b00d5bbd-afe5-4e06-8af1-2a2e8e5a0c70",
        "deepnote_cell_type": "text-cell-h2"
      }
    },
    {
      "cell_type": "markdown",
      "source": "Because of the amount of images we would load into memory, it would be best to create a helper object called a Data Generator. It essentially generates batches of data, which will be used to feed our multi-output model with both the images and their labels. This step is also done instead of just loading all the dataset into the memory at once, which is memory intensive and could lead to an out of memory error.",
      "metadata": {
        "tags": [],
        "cell_id": "00019-9a890619-c190-42ef-a514-3ac65c129b1e",
        "deepnote_cell_type": "text-cell-p"
      }
    },
    {
      "cell_type": "code",
      "metadata": {
        "colab": {
          "base_uri": "https://localhost:8080/"
        },
        "id": "zfeknie48b7t",
        "outputId": "8f12d71d-a832-468a-d5e7-0afd0ba79429",
        "cell_id": "00009-204c7e9a-d028-4455-9324-1bb57d9b1ba6",
        "deepnote_cell_type": "code"
      },
      "source": "#Generate image generator\ndatagen=ImageDataGenerator(rescale=1./255.)\n\n#Define the target columns for our generator\ncolumns = ['Wearing_Accessories', 'Thick_Lips_Nose']\n\n#Generate train generator\ntrain_generator =     datagen.flow_from_dataframe(train_df, \n                                                    img_folder, \n                                                    x_col = 'image_id', \n                                                    y_col = columns, \n                                                    class_mode='raw',\n                                                    target_size=(218, 178), \n                                                    batch_size = 20, \n                                                    color_mode = 'rgb', \n                                                    shuffle = True)\n\n#Generate validation generator\nval_generator =   datagen.flow_from_dataframe(val_df, \n                                                    img_folder, \n                                                    x_col = 'image_id', \n                                                    y_col = columns, \n                                                    target_size =(218, 178), \n                                                    class_mode = 'raw', \n                                                    batch_size = 20, \n                                                    color_mode = 'rgb', \n                                                    shuffle = True)",
      "execution_count": null,
      "outputs": [
        {
          "output_type": "stream",
          "text": "/usr/local/lib/python3.7/dist-packages/keras_preprocessing/image/dataframe_iterator.py:282: UserWarning: Found 84880 invalid image filename(s) in x_col=\"image_id\". These filename(s) will be ignored.\n  .format(n_invalid, x_col)\n",
          "name": "stderr"
        },
        {
          "output_type": "stream",
          "text": "Found 44269 validated image filenames.\nFound 14710 validated image filenames.\n",
          "name": "stdout"
        },
        {
          "output_type": "stream",
          "text": "/usr/local/lib/python3.7/dist-packages/keras_preprocessing/image/dataframe_iterator.py:282: UserWarning: Found 28340 invalid image filename(s) in x_col=\"image_id\". These filename(s) will be ignored.\n  .format(n_invalid, x_col)\n",
          "name": "stderr"
        }
      ]
    },
    {
      "cell_type": "code",
      "metadata": {
        "id": "54dEGcLWs4b1",
        "cell_id": "00010-6be7ea1d-a6fc-4ef3-9968-436e547e363b",
        "deepnote_cell_type": "code"
      },
      "source": "#Define shape of input; this is image height, image width, channels (color)\n                                                     # 3 channels means RGB\ninput_shapes = (218, 178, 3)\n\n#Define input for the model\nmodel_input = Input(shape=input_shapes)",
      "execution_count": null,
      "outputs": []
    },
    {
      "cell_type": "markdown",
      "source": "## Building the Model",
      "metadata": {
        "tags": [],
        "cell_id": "00022-3b5b1572-d98e-408c-b13b-e99d268e4921",
        "deepnote_cell_type": "text-cell-h2"
      }
    },
    {
      "cell_type": "markdown",
      "source": "We finally build the CNN in this step. For this particular model, we are basing our final model on VGG16 (also known as OxfordNet). It is a powerful neural network which is easy to implement. This is also known as transfer learning as we are re-using a different model developed for a task as a base model. We shall add our own new top layers as the original top layers contain information specific to a dataset (in this case, VGG16's top layers are specific to the ImageNet dataset). The non top-layers have recognized generic information and, as such, can be reused. ",
      "metadata": {
        "tags": [],
        "cell_id": "00023-d0794ad9-92ca-447e-be27-81b4ba4949ab",
        "deepnote_cell_type": "text-cell-p"
      }
    },
    {
      "cell_type": "code",
      "metadata": {
        "id": "FoBHS-Emxkq_",
        "colab": {
          "base_uri": "https://localhost:8080/"
        },
        "outputId": "9c79d623-e2a0-4654-ecd8-15bf2589d87a",
        "cell_id": "00011-1098bd8f-fc48-4344-a430-e408987da6c3",
        "deepnote_cell_type": "code"
      },
      "source": "#defining our base model\nbase_model = VGG16(weights=None, include_top=False, input_shape=input_shapes, input_tensor=model_input)\n\n#printing the number of layers\nprint(\"number of layers:\", len(base_model.layers))",
      "execution_count": null,
      "outputs": [
        {
          "output_type": "stream",
          "text": "number of layers: 19\n",
          "name": "stdout"
        }
      ]
    },
    {
      "cell_type": "markdown",
      "source": "### VGG16 Structure",
      "metadata": {
        "tags": [],
        "cell_id": "00025-06a7eab0-1ba6-42f5-9a58-f36b5de8be4c",
        "deepnote_cell_type": "text-cell-h3"
      }
    },
    {
      "cell_type": "markdown",
      "source": "![VGG16 Structure](image-20210410-011922.png)\n",
      "metadata": {
        "tags": [],
        "cell_id": "00027-cefd4997-a589-425e-bd43-279f62ad5c8c",
        "deepnote_cell_type": "markdown"
      }
    },
    {
      "cell_type": "markdown",
      "source": "Source: Geeksforgeeks.org ",
      "metadata": {
        "tags": [],
        "cell_id": "00027-2c77454f-4d03-4084-bca9-fbfbdf144fbf",
        "deepnote_cell_type": "text-cell-p"
      }
    },
    {
      "cell_type": "markdown",
      "source": "This is the structure of the VGG16 model, developed over the imagenet dataset. The top layers would not be included in our model. These layers will be replaced for custom top layers.",
      "metadata": {
        "tags": [],
        "cell_id": "00028-91efb05b-ba61-448d-b934-2485b20ce29f",
        "deepnote_cell_type": "text-cell-p"
      }
    },
    {
      "cell_type": "code",
      "metadata": {
        "id": "YUQcrKOd57cv",
        "colab": {
          "base_uri": "https://localhost:8080/"
        },
        "outputId": "6a233ae9-f128-4103-8afd-c2eccdb80bb3",
        "cell_id": "00012-6dace7c5-70bc-4aeb-8d6e-8ce7b51eb1c4",
        "deepnote_cell_type": "code"
      },
      "source": "#model summary\nbase_model.summary()",
      "execution_count": null,
      "outputs": [
        {
          "output_type": "stream",
          "text": "Model: \"vgg16\"\n_________________________________________________________________\nLayer (type)                 Output Shape              Param #   \n=================================================================\ninput_1 (InputLayer)         [(None, 218, 178, 3)]     0         \n_________________________________________________________________\nblock1_conv1 (Conv2D)        (None, 218, 178, 64)      1792      \n_________________________________________________________________\nblock1_conv2 (Conv2D)        (None, 218, 178, 64)      36928     \n_________________________________________________________________\nblock1_pool (MaxPooling2D)   (None, 109, 89, 64)       0         \n_________________________________________________________________\nblock2_conv1 (Conv2D)        (None, 109, 89, 128)      73856     \n_________________________________________________________________\nblock2_conv2 (Conv2D)        (None, 109, 89, 128)      147584    \n_________________________________________________________________\nblock2_pool (MaxPooling2D)   (None, 54, 44, 128)       0         \n_________________________________________________________________\nblock3_conv1 (Conv2D)        (None, 54, 44, 256)       295168    \n_________________________________________________________________\nblock3_conv2 (Conv2D)        (None, 54, 44, 256)       590080    \n_________________________________________________________________\nblock3_conv3 (Conv2D)        (None, 54, 44, 256)       590080    \n_________________________________________________________________\nblock3_pool (MaxPooling2D)   (None, 27, 22, 256)       0         \n_________________________________________________________________\nblock4_conv1 (Conv2D)        (None, 27, 22, 512)       1180160   \n_________________________________________________________________\nblock4_conv2 (Conv2D)        (None, 27, 22, 512)       2359808   \n_________________________________________________________________\nblock4_conv3 (Conv2D)        (None, 27, 22, 512)       2359808   \n_________________________________________________________________\nblock4_pool (MaxPooling2D)   (None, 13, 11, 512)       0         \n_________________________________________________________________\nblock5_conv1 (Conv2D)        (None, 13, 11, 512)       2359808   \n_________________________________________________________________\nblock5_conv2 (Conv2D)        (None, 13, 11, 512)       2359808   \n_________________________________________________________________\nblock5_conv3 (Conv2D)        (None, 13, 11, 512)       2359808   \n_________________________________________________________________\nblock5_pool (MaxPooling2D)   (None, 6, 5, 512)         0         \n=================================================================\nTotal params: 14,714,688\nTrainable params: 14,714,688\nNon-trainable params: 0\n_________________________________________________________________\n",
          "name": "stdout"
        }
      ]
    },
    {
      "cell_type": "code",
      "metadata": {
        "id": "-YRle1IFPeDO",
        "cell_id": "00013-985b5188-a6d4-4498-81e7-cc764cbf9249",
        "deepnote_cell_type": "code"
      },
      "source": "#Creating our own custom layers\nx = base_model.output\nx = MaxPooling2D()(x)\nx = Flatten()(x)\nx = Dense(1024, activation=\"relu\")(x)\nx = Dropout(0.5)(x)\nx = Dense(512, activation=\"relu\")(x)\npredictions = Dense(2, activation=\"softmax\")(x)",
      "execution_count": null,
      "outputs": []
    },
    {
      "cell_type": "code",
      "metadata": {
        "id": "-sjbz9Y2vf_u",
        "cell_id": "00014-5523226c-bcfe-474e-9def-4f3a64b7083b",
        "deepnote_cell_type": "code"
      },
      "source": "#defining our new, final model\nmodel = Model(inputs=model_input, outputs = predictions, name='model')",
      "execution_count": null,
      "outputs": []
    },
    {
      "cell_type": "code",
      "metadata": {
        "id": "esqObSnqzBX7",
        "cell_id": "00015-3fa7e220-ab13-4ab2-bb90-d676b798163f",
        "deepnote_cell_type": "code"
      },
      "source": "#build an optimizer for our model\ninit_lr = 1e-4\nepochs = 100\nopt = Adam(lr=init_lr, decay=init_lr / epochs)\n\n#compile the model\nmodel.compile(optimizer=opt, loss='binary_crossentropy', metrics=['accuracy', 'AUC'])",
      "execution_count": null,
      "outputs": []
    },
    {
      "cell_type": "code",
      "metadata": {
        "colab": {
          "base_uri": "https://localhost:8080/"
        },
        "id": "4NwKo5qBDaKn",
        "outputId": "94836e8b-5e40-488a-bc18-0355326e53fb",
        "cell_id": "00016-f3a8bf5f-cdf1-42e3-9e63-a7d80a5d9294",
        "deepnote_cell_type": "code"
      },
      "source": "#final model summary\nmodel.summary()",
      "execution_count": null,
      "outputs": [
        {
          "output_type": "stream",
          "text": "Model: \"model\"\n_________________________________________________________________\nLayer (type)                 Output Shape              Param #   \n=================================================================\ninput_1 (InputLayer)         [(None, 218, 178, 3)]     0         \n_________________________________________________________________\nblock1_conv1 (Conv2D)        (None, 218, 178, 64)      1792      \n_________________________________________________________________\nblock1_conv2 (Conv2D)        (None, 218, 178, 64)      36928     \n_________________________________________________________________\nblock1_pool (MaxPooling2D)   (None, 109, 89, 64)       0         \n_________________________________________________________________\nblock2_conv1 (Conv2D)        (None, 109, 89, 128)      73856     \n_________________________________________________________________\nblock2_conv2 (Conv2D)        (None, 109, 89, 128)      147584    \n_________________________________________________________________\nblock2_pool (MaxPooling2D)   (None, 54, 44, 128)       0         \n_________________________________________________________________\nblock3_conv1 (Conv2D)        (None, 54, 44, 256)       295168    \n_________________________________________________________________\nblock3_conv2 (Conv2D)        (None, 54, 44, 256)       590080    \n_________________________________________________________________\nblock3_conv3 (Conv2D)        (None, 54, 44, 256)       590080    \n_________________________________________________________________\nblock3_pool (MaxPooling2D)   (None, 27, 22, 256)       0         \n_________________________________________________________________\nblock4_conv1 (Conv2D)        (None, 27, 22, 512)       1180160   \n_________________________________________________________________\nblock4_conv2 (Conv2D)        (None, 27, 22, 512)       2359808   \n_________________________________________________________________\nblock4_conv3 (Conv2D)        (None, 27, 22, 512)       2359808   \n_________________________________________________________________\nblock4_pool (MaxPooling2D)   (None, 13, 11, 512)       0         \n_________________________________________________________________\nblock5_conv1 (Conv2D)        (None, 13, 11, 512)       2359808   \n_________________________________________________________________\nblock5_conv2 (Conv2D)        (None, 13, 11, 512)       2359808   \n_________________________________________________________________\nblock5_conv3 (Conv2D)        (None, 13, 11, 512)       2359808   \n_________________________________________________________________\nblock5_pool (MaxPooling2D)   (None, 6, 5, 512)         0         \n_________________________________________________________________\nglobal_average_pooling2d_2 ( (None, 512)               0         \n_________________________________________________________________\ndense_7 (Dense)              (None, 1024)              525312    \n_________________________________________________________________\ndropout_2 (Dropout)          (None, 1024)              0         \n_________________________________________________________________\ndense_8 (Dense)              (None, 512)               524800    \n_________________________________________________________________\ndense_9 (Dense)              (None, 2)                 1026      \n=================================================================\nTotal params: 15,765,826\nTrainable params: 15,765,826\nNon-trainable params: 0\n_________________________________________________________________\n",
          "name": "stdout"
        }
      ]
    },
    {
      "cell_type": "code",
      "metadata": {
        "id": "MYVlHsrSjBeD",
        "cell_id": "00017-ceae5d85-d796-4c1e-92e9-fa0df9e449e0",
        "deepnote_cell_type": "code"
      },
      "source": "#Generate number of steps per epoch\nEPOCH_STEPS_TRAIN = train_generator.samples//train_generator.batch_size\nEPOCH_STEPS_VAL = val_generator.samples//val_generator.batch_size",
      "execution_count": null,
      "outputs": []
    },
    {
      "cell_type": "code",
      "metadata": {
        "colab": {
          "base_uri": "https://localhost:8080/"
        },
        "id": "sylrJ_FeznoK",
        "outputId": "a221a176-55a2-4a53-ca60-d09a53a4ea65",
        "cell_id": "00018-d2de2cb6-49f2-4e02-8838-7c62a9bf10ae",
        "deepnote_cell_type": "code"
      },
      "source": "#Generate a callback to store model weights\n#verbose = 1 provides us more information\n#save_only_best saves the best model\ncallbacks = [\n    ModelCheckpoint(\"./model_checkpoint\", monitor='val_loss', verbose=1, save_best_only=True)\n]\nhistory = model.fit(\n    train_generator, \n    steps_per_epoch = EPOCH_STEPS_TRAIN, \n    epochs = 10, \n    validation_data = val_generator, \n    validation_steps = EPOCH_STEPS_VAL)",
      "execution_count": null,
      "outputs": [
        {
          "output_type": "stream",
          "text": "Epoch 1/10\n2213/2213 [==============================] - 2302s 1s/step - loss: 0.6630 - accuracy: 0.4042 - mse: 0.2505 - val_loss: 0.6345 - val_accuracy: 0.3937 - val_mse: 0.2477\nEpoch 2/10\n2213/2213 [==============================] - 615s 278ms/step - loss: 0.6265 - accuracy: 0.3986 - mse: 0.2500 - val_loss: 0.6114 - val_accuracy: 0.4421 - val_mse: 0.2477\nEpoch 3/10\n2213/2213 [==============================] - 617s 279ms/step - loss: 0.6015 - accuracy: 0.4611 - mse: 0.2512 - val_loss: 0.5800 - val_accuracy: 0.5204 - val_mse: 0.2585\nEpoch 4/10\n2213/2213 [==============================] - 618s 279ms/step - loss: 0.5708 - accuracy: 0.5153 - mse: 0.2528 - val_loss: 0.5677 - val_accuracy: 0.4886 - val_mse: 0.2571\nEpoch 5/10\n2213/2213 [==============================] - 618s 279ms/step - loss: 0.5502 - accuracy: 0.5426 - mse: 0.2513 - val_loss: 0.5428 - val_accuracy: 0.5448 - val_mse: 0.2474\nEpoch 6/10\n2213/2213 [==============================] - 619s 280ms/step - loss: 0.5348 - accuracy: 0.5538 - mse: 0.2503 - val_loss: 0.5544 - val_accuracy: 0.4912 - val_mse: 0.2546\nEpoch 7/10\n2213/2213 [==============================] - 619s 280ms/step - loss: 0.5113 - accuracy: 0.5566 - mse: 0.2507 - val_loss: 0.5356 - val_accuracy: 0.5160 - val_mse: 0.2612\nEpoch 8/10\n2213/2213 [==============================] - ETA: 0s - loss: 0.4937 - accuracy: 0.5642 - mse: 0.2496Epoch 9/10\n2213/2213 [==============================] - 621s 281ms/step - loss: 0.4742 - accuracy: 0.5781 - mse: 0.2490 - val_loss: 0.5459 - val_accuracy: 0.6118 - val_mse: 0.2643\nEpoch 10/10\n2213/2213 [==============================] - 623s 281ms/step - loss: 0.4452 - accuracy: 0.5841 - mse: 0.2505 - val_loss: 0.5539 - val_accuracy: 0.5346 - val_mse: 0.2678\n",
          "name": "stdout"
        }
      ]
    },
    {
      "cell_type": "markdown",
      "source": "As you can see, the log loss for the train data and validation data is 0.45 and 0.55 respectively while the accuracy for the train data and the validation data is 0.58 and 0.53 respectively. The smaller the log loss, the better the model and the higher the accuracy, the better the model.",
      "metadata": {
        "tags": [],
        "cell_id": "00036-5d06bbd2-d9e3-4e30-90ea-d91c67a39c5c",
        "deepnote_cell_type": "text-cell-p"
      }
    },
    {
      "cell_type": "code",
      "metadata": {
        "tags": [],
        "cell_id": "00037-8889fc67-984b-4c86-a2d5-ae07b03651b1",
        "deepnote_cell_type": "code"
      },
      "source": "#Modelling the Loss \nplt.figure(figsize=(18, 4))\nplt.plot(history.history['loss'], label = 'train')\nplt.plot(history.history['val_loss'], label = 'valid')\nplt.legend()\nplt.title('Loss Function')\nplt.show()",
      "execution_count": null,
      "outputs": []
    },
    {
      "cell_type": "code",
      "metadata": {
        "tags": [],
        "cell_id": "00038-3b0a3aff-ef7d-4a0c-b107-451c5be35ce0",
        "deepnote_cell_type": "code"
      },
      "source": "#Modelling the Accuracy\nplt.figure(figsize=(18, 4))\nplt.plot(history.history['accuracy'], label = 'train')\nplt.plot(history.history['val_accuracy'], label = 'valid')\nplt.legend()\nplt.title('Accuracy')\nplt.show()",
      "execution_count": null,
      "outputs": []
    },
    {
      "cell_type": "markdown",
      "source": "## Evaluating the Model",
      "metadata": {
        "tags": [],
        "cell_id": "00039-40b0efc9-4c70-4ae5-af9f-b4a6112292b4",
        "deepnote_cell_type": "text-cell-h2"
      }
    },
    {
      "cell_type": "code",
      "metadata": {
        "tags": [],
        "cell_id": "00039-c6b6ee52-adc2-4433-b748-1aa918538ef1",
        "deepnote_cell_type": "code"
      },
      "source": "#load the best model\nmodel.load_weights('./model_checkpoint')",
      "execution_count": null,
      "outputs": []
    },
    {
      "cell_type": "code",
      "metadata": {
        "tags": [],
        "cell_id": "00041-a72f21b2-00f1-4a10-9e65-1fb3b1ebd3dd",
        "deepnote_cell_type": "code"
      },
      "source": "#loading test data\ntest_df = pd.read_csv('sampleSubmission.csv')\n\n#reading the number of rows in test_df\ntest_samples = len(test_df.index)\n\n#defining number of steps for model evaluation\nEPOCH_STEPS_TEST = test_samples // 128\n\ntest_df",
      "execution_count": null,
      "outputs": []
    },
    {
      "cell_type": "code",
      "metadata": {
        "tags": [],
        "cell_id": "00042-de7fdb46-38e8-4fc1-b46d-c3acde2eedcb",
        "deepnote_cell_type": "code"
      },
      "source": "#Generate test generator\ntest_generator =     datagen.flow_from_dataframe(test_df, \n                                                    img_folder, \n                                                    x_col = 'image_id', \n                                                    y_col = columns, \n                                                    class_mode='raw',\n                                                    target_size=(218, 178), \n                                                    batch_size = 128, \n                                                    color_mode = 'rgb', \n                                                    shuffle = True)",
      "execution_count": null,
      "outputs": []
    },
    {
      "cell_type": "code",
      "metadata": {
        "tags": [],
        "cell_id": "00043-45a4d255-8337-4e72-ba9a-72a8737cab65",
        "deepnote_cell_type": "code"
      },
      "source": "#Evaluating the model\nscores = model.evaluate(generator=test_generator(), steps=EPOCH_STEPS_TEST)\nprint(scores)",
      "execution_count": null,
      "outputs": []
    },
    {
      "cell_type": "markdown",
      "source": "## Limitations and Going Forward",
      "metadata": {
        "tags": [],
        "cell_id": "00046-e796409a-730d-4865-a31e-087657a8363d",
        "deepnote_cell_type": "text-cell-h2"
      }
    },
    {
      "cell_type": "markdown",
      "source": "<ol>\n    <li>Due to limitations in file memory, not all the images were validated. This should not be an issue in your attempts.</li>\n    <li>Data augmentation was not used either due to the aforementioned memory limitations. It may be helpful to augment the images so that the model would encounter new forms of images and thus be more robust. Some augmentations could include increasing the \"depth\" of the subject or distorting the image.</li>\n    <li>Tuning hyperparameters may result in improvements in the model</li>\n    <li>Try using different models and layers for both the base model (such as Inception v3) and the top layers</li>\n",
      "metadata": {
        "tags": [],
        "cell_id": "00047-4afd6fb3-807f-4bfd-a5fb-c402250c863c",
        "deepnote_cell_type": "markdown"
      }
    },
    {
      "cell_type": "markdown",
      "source": "<a style='text-decoration:none;line-height:16px;display:flex;color:#5B5B62;padding:10px;justify-content:end;' href='https://deepnote.com?utm_source=created-in-deepnote-cell&projectId=66e592bb-e680-4a54-85f5-468563575650' target=\"_blank\">\n<img alt='Created in deepnote.com' style='display:inline;max-height:16px;margin:0px;margin-right:7.5px;' src='data:image/svg+xml;base64,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' > </img>\nCreated in <span style='font-weight:600;margin-left:4px;'>Deepnote</span></a>",
      "metadata": {
        "tags": [],
        "created_in_deepnote_cell": true,
        "deepnote_cell_type": "markdown"
      }
    }
  ],
  "nbformat": 4,
  "nbformat_minor": 0,
  "metadata": {
    "colab": {
      "name": "PSet 2 Rough Baseline.ipynb",
      "provenance": [],
      "collapsed_sections": []
    },
    "kernelspec": {
      "name": "python3",
      "display_name": "Python 3"
    },
    "language_info": {
      "name": "python"
    },
    "accelerator": "GPU",
    "deepnote_notebook_id": "8cee14cb-a02d-4c23-bf15-35022ac84c4b",
    "deepnote": {},
    "deepnote_execution_queue": []
  }
}